{
 "cells": [
  {
   "cell_type": "markdown",
   "metadata": {},
   "source": [
    "--- Day 1: Not Quite Lisp ---\n",
    "Santa was hoping for a white Christmas, but his weather machine's \"snow\" function is powered by stars, and he's fresh out! To save Christmas, he needs you to collect fifty stars by December 25th.\n",
    "\n",
    "Collect stars by helping Santa solve puzzles. Two puzzles will be made available on each day in the Advent calendar; the second puzzle is unlocked when you complete the first. Each puzzle grants one star. Good luck!\n",
    "\n",
    "Here's an easy puzzle to warm you up.\n",
    "\n",
    "Santa is trying to deliver presents in a large apartment building, but he can't find the right floor - the directions he got are a little confusing. He starts on the ground floor (floor 0) and then follows the instructions one character at a time.\n",
    "\n",
    "An opening parenthesis, (, means he should go up one floor, and a closing parenthesis, ), means he should go down one floor.\n",
    "\n",
    "The apartment building is very tall, and the basement is very deep; he will never find the top or bottom floors.\n",
    "\n",
    "For example:\n",
    "\n",
    "(()) and ()() both result in floor 0.\n",
    "((( and (()(()( both result in floor 3.\n",
    "))((((( also results in floor 3.\n",
    "()) and ))( both result in floor -1 (the first basement level).\n",
    "))) and )())()) both result in floor -3.\n",
    "To what floor do the instructions take Santa?"
   ]
  },
  {
   "cell_type": "code",
   "execution_count": 1,
   "metadata": {},
   "outputs": [],
   "source": [
    "#Puzzle Input:\n",
    "puzzle_input = '()(((()))(()()()((((()(((())(()(()((((((()(()(((())))((()(((()))((())(()((()()()()(((())(((((((())))()()(()(()(())(((((()()()((())(((((()()))))()(())(((())(())((((((())())))(()())))()))))()())()())((()()((()()()()(()((((((((()()())((()()(((((()(((())((())(()))()((((()((((((((())()((()())(())((()))())((((()())(((((((((((()()(((((()(()))())(((()(()))())((()(()())())())(()(((())(())())()()(()(()((()))((()))))((((()(((()))))((((()(()(()())())()(((()((((())((((()(((()()(())()()()())((()((((((()((()()))()((()))()(()()((())))(((()(((()))((()((()(()))(((()()(()(()()()))))()()(((()(((())())))))((()(((())()(()(())((()())))((((())))(()(()(()())()((()())))(((()((()(())()()((()((())(()()((())(())()))()))((()(())()))())(((((((()(()()(()(())())))))))(()((((((())((((())((())())(()()))))()(())(()())()())((())(()))))(()))(()((()))()(()((((((()()()()((((((((()(()(())((()()(()()))(())()())()((())))()))()())(((()))(())()(())()))()((()((()(()()())(())()()()((())())))((()()(()()((()(())()()())(((()(()()))))(())))(()(()())()))()()))))))()))))((((((())))())))(()(())())(()())))))(()))()))))))()((()))))()))))(()(()((()())())(()()))))(((())()))())())())(((()(()()))(())()(())(())((((((()()))))((()(()))))))(()))())(((()()(()))()())()()()())))))))))))))(())(()))(()))((()(())(()())(())())(()())(())()()(()())))()()()))(())())()))())())(())((())))))))(())))(())))))()))))((())(()(((()))))(()))()((()(())))(()())(((((()))()())()()))))()))))()))())(()(()()()))()))))))((()))))))))))()((()))((()(())((())()()(()()))()(()))))()()(()))()))(((())))(())()((())(())(()())()())())))))))())))()((())))()))(()))()()))(((((((()))())(()()))(()()(()))()(()((()())()))))))(((()()()())))(())()))()())(()()))()()))))))))(())))()))()()))))))()))()())))()(())(())))))()(())()()(()()))))())((()))))()))))(()(((((()))))))))())))())()(())()()))))(())))())()()())()()())()(()))))()))()))))))))())))((()))()))()))())))()())()()())))())))(()((())()((()))())))))())()(())((())))))))))))())()())(())())())(()))(()))()))())(()(())())()())()()(()))))(()(())))))))(())))())(())))))))())()()(())())())))(())))))()))()(()())()(()))())())))))()()(()))()))))())))))))))()))))()))))))())()())()()))))()())))())))))))))))()()))))()()(((()))()()(())()))))((()))))(()))(())())))(())()))))))(()))()))))(())())))))()))(()())))))))))))))())))))))))()((()())(()())))))))((()))))(())(())))()(()())())))())())(()()()())))()))))))())))))())()()())))))))))))()()(()))))()())()))((()())(()))))()(()))))))))))()())())(((())(()))))())()))()))()))))))()))))))(()))))()))))()(())))(())))(()))())()()(()()))()))(()()))))))))()))(()))())(()()(()(()())()()))()))))))))(())))))((()()(()))())())))))()))())(()())()()))())))()(()()()()))((())())))())()(()()))()))))))))(()))(())))()))))(()(()())(()))))()())())()))()()))())))))))))))())()))))))()))))))))())))))()))))())(()())))(())()))())())))))()()(()()())(()())))()()))(((()))(()()()))))()))))()))))((())))()((((((()()))))))())))))))))))(((()))))))))))))(())())))))())(()))))))(()))((()))())))()(()((()))()))()))))))))))())()))()(()()))))())))())(())()(()))()))())(()))()))))(()()))()()(())))))()))(())(()(()()))(()()())))))(((()))))))()))))))))))))(())(()))))()())())()()((()()))())))))(()))))())))))))()()()))))))))())))()(((()()))(())))))(((())())))))((()))()(()))(()))))(()())))(()))())))))()))))(())(())))()((()))(())())))()()))()))))))))()))(()()()(()()()(()))())(())()())(((()))(())))))))))(((()())))()()))))))))()(())(()))()((((())(())(()())))()))(((())()()()))((()))(()))())())))())))(()))())()())())(()(())())()()()(())))())(())))(())))(())()))()))(()((()))))))))())(()))))))())(()()))()()))()(()(()())))()()(()((()((((((()))(())))()()()))())()))((()()(()))())((()(()(()))(()()))))()())))()))()())))))))()()((()())(())))()))(()))(())(()))())(()(())))()()))))))(((()(((()()))()(()(())())((()()))()))()))()))()(()()()(()))((()())()(())))()()))(((())()()())(())()((()()()()(()(())(()()))()(((((()())))((())))))(()()()))))(((()(())))()))((()((()(())()(()((())))((()())()(()))(((()())()()(()))(())(((()((()())()((())()())(((()()))((()((())(()))(()())(()()()))((()))(())(()((()()())((()))(())))(())(())(())))(()())))(((((()(()(((((()())((((()(()())(())(()()(((())((()(((()()(((()()((((((())))())(()((((((()(()))()))()()((()((()))))()(()()(()((()()))))))(((((()(((((())()()()(())())))))))()))((()()(())))(())(()()()())))))(()((((())))))))()()(((()(()(()(()(()())()()()(((((((((()()())()(()))((()()()()()(((((((()())()((())()))((((((()(()(()(()())(((()(((((((()(((())(((((((((())(())())()))((()(()))(((()()())(())(()(()()(((()(())()))())))(())((((((())(()()())()()(((()(((())(()(((())(((((((()(((((((((()))(())(()(()(()))))((()))()(())())())((()(()((()()))((()()((()(())(())(()((())(((())(((()()()((((((()()(())((((())()))))(())((()(()((())))(((((()(()()())())((())())))((())((()((()()((((((())(((()()(()())())(()(()))(()(()))())())()(((((((()(((()(())()()((())((()(()()((()(()()(((((((((((())((())((((((())((()((((()(()((((()(((((((())()((()))))())()((()((((()(()(((()((()())))(())())(((()(((())((((((()(((((((((()()(())))(()(((((()((((()())))((()((()((()(()()(((())((((((((((((()(((())(()(((((()))(()()(()()()()()()((())(((((((())(((((())))))())()(()()(()(()(((()()(((((())(()((()((()(((()()((()((((())()))()((((())(())))()())(((())(())(()()((()(((()()((((((((((()()(()())())(((((((((())((((()))()()((((())(()((((()(((())())(((((((((((()((((())))(())(()(((()(((()((())(((((()((()()(()(()()((((((()((((()((()(()((()(()((((((()))))()()(((((()((()(()(())()))(())(((((((()((((()())(()((()((()(()))())))(())((()))))(((((((()()()())(()))(()()((()())()((()((()()()(()(()()))(()())(())(((((()(((((((((((()((()(((()(((((((()()((((((()(((((()(()((()(((((())((((((()))((((())((()()((())(((())()(((((()()(((((()((()(()(((((((()(((((()((()((()((())(())((())(()))()()))(()()(()(()()(((((((()(((()(((())()(((((()((((((()())((((())()((()((()(()()())(()))((((()()((((((()((()(()(()((((()((()((())((((((()(()(())((((((()((((((((((()((())()))()(()(()(((((()()()))((())))()(()((((((((((((((()(((()((((()((())((()((()(((()()(()(((()((())(()()())))()(()(()(((((()()(()(()((((()(((((())()(()(()))(((((()()(((()()(())((((((((((((((())((())(((((((((((())()()()(())()(()(()(((((((((())(((()))(()()())(()((((()(())(((((()())(())((((((((())()((((()((((((())(()((()(())(((()((((()))(((((((((()()))((((()(())()()()(())(()((())((()()))()(((())(((((())((((((()()))(((((((((()((((((())))(((((((()((()(()(())))())(()(()))()(((((()())(()))()(()(())(((()))))())()())))(((((()))())()((()(()))))((()()()((((((()))()()((((((((())((()(()(((()(()((())((()())(()((((())(()(((()()()(()(()()))())())((((((((((())())((()))()((())(())(())))())()(()()(())))())(()))(((()(()()(((()(((())))()(((()(())()((((((())()))()))()((((((()(()(((((()())))()))))())()()(((()(((((())((()()(()((()((()(()(()(())))(()()()()((()(())(((()((()))((((()))())(())))())(()))()()()())()))(((()()())()((())))(())(()()()()(()())((()(()()((((())))((()((()(())((()(()((())()(()()(((()())()()())((()))((())(((()()(())))()()))(((()((())()(((((()())(())((())()())())((((((()(()(((((()))(()('"
   ]
  },
  {
   "cell_type": "code",
   "execution_count": 10,
   "metadata": {},
   "outputs": [
    {
     "name": "stdout",
     "output_type": "stream",
     "text": [
      "138\n"
     ]
    }
   ],
   "source": [
    "#Matt's first Answer:\n",
    "floor = 0\n",
    "for instruction in puzzle_input:\n",
    "    if instruction == '(':\n",
    "        floor += 1\n",
    "    else:\n",
    "        floor -= 1\n",
    "print(floor)"
   ]
  },
  {
   "cell_type": "code",
   "execution_count": 13,
   "metadata": {},
   "outputs": [
    {
     "name": "stdout",
     "output_type": "stream",
     "text": [
      "138\n",
      "138\n"
     ]
    }
   ],
   "source": [
    "#alternative after more practice trying to keep it short:\n",
    "print(sum([1 if instruction =='(' else -1 for instruction in puzzle_input]))\n",
    "\n",
    "#even better still after a google eugh!\n",
    "print(puzzle_input.count('(') - puzzle_input.count(')'))"
   ]
  },
  {
   "cell_type": "markdown",
   "metadata": {},
   "source": [
    "--- Part Two ---\n",
    "Now, given the same instructions, find the position of the first character that causes him to enter the basement (floor -1). The first character in the instructions has position 1, the second character has position 2, and so on.\n",
    "\n",
    "For example:\n",
    "\n",
    ") causes him to enter the basement at character position 1.\n",
    "()()) causes him to enter the basement at character position 5.\n",
    "What is the position of the character that causes Santa to first enter the basement?"
   ]
  },
  {
   "cell_type": "code",
   "execution_count": 19,
   "metadata": {},
   "outputs": [
    {
     "name": "stdout",
     "output_type": "stream",
     "text": [
      "1771\n",
      "-1\n"
     ]
    }
   ],
   "source": [
    "floor = 0\n",
    "for i in range(0,len(puzzle_input)):\n",
    "    if puzzle_input[i] == '(':\n",
    "        floor += 1\n",
    "    else:\n",
    "        floor -= 1\n",
    "    if floor < 0:\n",
    "        print(i+1)\n",
    "        break"
   ]
  },
  {
   "cell_type": "code",
   "execution_count": 20,
   "metadata": {},
   "outputs": [
    {
     "name": "stdout",
     "output_type": "stream",
     "text": [
      "1771\n"
     ]
    }
   ],
   "source": [
    "#alternative after more practice:\n",
    "f = 0\n",
    "for i, v in enumerate(puzzle_input,1):\n",
    "    if v == '(':\n",
    "        f+=1\n",
    "    else:\n",
    "        f-=1\n",
    "    if f == -1:\n",
    "        print(i)\n",
    "        break"
   ]
  },
  {
   "cell_type": "code",
   "execution_count": 15,
   "metadata": {},
   "outputs": [],
   "source": [
    "#alternative solutions found online but don't like the second... (can't find documentationon it's syntax?)\n",
    "def one():\n",
    "    return puzzle_input.count('(') - puzzle_input.count(')')\n",
    "\n",
    "\n",
    "def two(f=0):\n",
    "    for k, v in enumerate(puzzle_input):\n",
    "        f += (-1, 1)[v == '(']\n",
    "        if f == -1: return k + 1"
   ]
  },
  {
   "cell_type": "code",
   "execution_count": 16,
   "metadata": {},
   "outputs": [
    {
     "name": "stdout",
     "output_type": "stream",
     "text": [
      "138\n",
      "1771\n"
     ]
    }
   ],
   "source": [
    "print(one())\n",
    "print(two())"
   ]
  },
  {
   "cell_type": "markdown",
   "metadata": {},
   "source": [
    "--- Day 2: I Was Told There Would Be No Math ---\n",
    "The elves are running low on wrapping paper, and so they need to submit an order for more. They have a list of the dimensions (length l, width w, and height h) of each present, and only want to order exactly as much as they need.\n",
    "\n",
    "Fortunately, every present is a box (a perfect right rectangular prism), which makes calculating the required wrapping paper for each gift a little easier: find the surface area of the box, which is 2*l*w + 2*w*h + 2*h*l. The elves also need a little extra paper for each present: the area of the smallest side.\n",
    "\n",
    "For example:\n",
    "\n",
    "A present with dimensions 2x3x4 requires 2*6 + 2*12 + 2*8 = 52 square feet of wrapping paper plus 6 square feet of slack, for a total of 58 square feet.\n",
    "A present with dimensions 1x1x10 requires 2*1 + 2*10 + 2*10 = 42 square feet of wrapping paper plus 1 square foot of slack, for a total of 43 square feet.\n",
    "All numbers in the elves' list are in feet. How many total square feet of wrapping paper should they order?\n",
    "\n",
    "puzzle_input = 'day_2_input.txt'"
   ]
  },
  {
   "cell_type": "code",
   "execution_count": 38,
   "metadata": {},
   "outputs": [
    {
     "name": "stdout",
     "output_type": "stream",
     "text": [
      "1598415\n"
     ]
    }
   ],
   "source": [
    "def pap_req(test):\n",
    "    l,w,h = [int(x) for x in test.split('x')]\n",
    "    sides = [l*w,w*h,l*h]\n",
    "    return 2*sum(sides)+min(sides)\n",
    "\n",
    "puzzle_input = open('day_2_input.txt',\"r\")\n",
    "tot_pap = 0\n",
    "for parcel in puzzle_input:\n",
    "    tot_pap += pap_req(parcel)\n",
    "\n",
    "print(tot_pap)"
   ]
  },
  {
   "cell_type": "markdown",
   "metadata": {},
   "source": [
    "--- Part Two ---\n",
    "The elves are also running low on ribbon. Ribbon is all the same width, so they only have to worry about the length they need to order, which they would again like to be exact.\n",
    "\n",
    "The ribbon required to wrap a present is the shortest distance around its sides, or the smallest perimeter of any one face. Each present also requires a bow made out of ribbon as well; the feet of ribbon required for the perfect bow is equal to the cubic feet of volume of the present. Don't ask how they tie the bow, though; they'll never tell.\n",
    "\n",
    "For example:\n",
    "\n",
    "A present with dimensions 2x3x4 requires 2+2+3+3 = 10 feet of ribbon to wrap the present plus 2*3*4 = 24 feet of ribbon for the bow, for a total of 34 feet.\n",
    "A present with dimensions 1x1x10 requires 1+1+1+1 = 4 feet of ribbon to wrap the present plus 1*1*10 = 10 feet of ribbon for the bow, for a total of 14 feet.\n",
    "How many total feet of ribbon should they order?"
   ]
  },
  {
   "cell_type": "code",
   "execution_count": 57,
   "metadata": {},
   "outputs": [
    {
     "name": "stdout",
     "output_type": "stream",
     "text": [
      "3812909\n"
     ]
    }
   ],
   "source": [
    "test = '1x1x10'\n",
    "\n",
    "def vol(sides):\n",
    "    return sides[0]*sides[1]*sides[2]\n",
    "    \n",
    "def rib_req(test):\n",
    "    sides = [int(x) for x in test.split('x')]\n",
    "    sides.sort()\n",
    "    \n",
    "    return 2*sum(sides[:2])+vol(sides)\n",
    "\n",
    "puzzle_input = open('day_2_input.txt',\"r\")\n",
    "tot_rib = 0\n",
    "for parcel in puzzle_input:\n",
    "    tot_rib += rib_req(parcel)\n",
    "\n",
    "print(tot_rib)"
   ]
  },
  {
   "cell_type": "markdown",
   "metadata": {},
   "source": [
    "--- Day 3: Perfectly Spherical Houses in a Vacuum ---\n",
    "Santa is delivering presents to an infinite two-dimensional grid of houses.\n",
    "\n",
    "He begins by delivering a present to the house at his starting location, and then an elf at the North Pole calls him via radio and tells him where to move next. Moves are always exactly one house to the north (^), south (v), east (>), or west (<). After each move, he delivers another present to the house at his new location.\n",
    "\n",
    "However, the elf back at the north pole has had a little too much eggnog, and so his directions are a little off, and Santa ends up visiting some houses more than once. How many houses receive at least one present?\n",
    "\n",
    "For example:\n",
    "\n",
    "> delivers presents to 2 houses: one at the starting location, and one to the east.\n",
    "^>v< delivers presents to 4 houses in a square, including twice to the house at his starting/ending location.\n",
    "^v^v^v^v^v delivers a bunch of presents to some very lucky children at only 2 houses."
   ]
  },
  {
   "cell_type": "code",
   "execution_count": 15,
   "metadata": {},
   "outputs": [
    {
     "name": "stdout",
     "output_type": "stream",
     "text": [
      "v>v<vvv<<vv^v<v>vv>v<<<^^^^^<<^<vv>^>v^>^>^>^>^><vvvv<^>^<<^><<<^vvvv>^>^><^v^><^<>^^>^vvv^<vv>>^>^^<>><>^>vvv>>^vv>^<><>^<v^>^>^><vv^vv^>><<^><<v>><>^<^>>vvv>v>>>v<<^<><^<v<>v>^^v^^^<^v^^>>><^>^>v<>^<>>^>^^v^><v<v>>><>v<v^v>^v<>>^><v>^<>v^>^<>^v^^^v^^>>vv<<^^><^<vvv>^>^^<^>>^^^^^v^<v>vv<>>v^v<^v^^<><^<^vv^><>><><>v>vvv^vv^^<<><<vvv><<^v^><v<>vvv^<^>vvvv^>^>>^v^<v^vv<^^v<>v>vv^<>><v<<<^v^<<><v<^<^<><^^^>^>>v>^>v^<>v><^<^<v^>^^vv<^^<>v^v^vv<>>>>v^v<>><^^v>vv^^>v^v>v<vv>>v>><v^v^v>vv>^^>^v><<vv^v^^vv<^v><^<<v<v^>vv^^^<v^>v>v^^^>><^^<v^<^>>v><vv<v^^>^^v>>v^^^<^^v>^v>><^<^<>>v<<^^vv>^^^v<^<^<v<v^^vv>^vv^>>v^><v>><<<>^vv^<^<>v^^<<<v<^>^><><v^^>>^^^<^vv<^^^>><^^v>^^v^<v^v^>^^<v>^<^v<^<<<<^<v^>v^<^^<>^^>^><<>>^v><>><^<v><^^^>>vv>^><vv>^^^^^v^vvv><><^<^>v>v^v^>^><><^<^><>v<<vv<^>><>^v^^v>^<<<>^v^>^<<v^vv<>v^<v^^vv><<v^<>>>^<v>vv>v>>>^<^>><vv<>>>>v<v>>>^v>v><>>vvv<^^><<^>^>v<^vvvv<v><vv<><^^^v^^^>v^v<>v<^^v>>><>v<v^>>v><v^>>^^<v<<<^<v<><^^v><<v^><<<<^vv<^<>^><vv<<<<^>>>^v>^v>vv>^v<>v>v<v><^>>v>>^>^><^<v^v^>^v<><><^^>^<vvvv^^<>^^^>vv^v^v>^v^^v^^v><v^<^<>><^<v>v>>vv<<v>>vvvv<vv><>>^v^>^>>v^v^<<<vv<><v<<>>>^v<<v>^^vv^><>v>^>v><<<<<<<^>^^v^<<^^>>vvv^<><>><>^^v<<vv><^^v<^^><vv>v^>>>v^v><v^v<^>v^><>v<<>v>^^v><<<<><^v^v>>^<>^<<>^<v<<>>v<<>><^<<<<^v>^<^v>v>vv<v<v<<>^>v<^<<>v^<vvvv^>v>><<v><v<>v>v>>v^vvv^^>>>v^<^<<^^<<<><v>v^<<v<<<>v<^^<><v<v^^<v>^>v>>v<>^>^^>>^v<<>v^^^>>>^vv<^v<v>^>v>^><>v^^<>^^v^^vv^<^>^<<>><<^>^v>>><<<vvvv><<><v<^v^v<vvv^<><<^<vv><v^v^v^>v>v^<vvv^><^><^<vv><>>v^>^^^<>><v^<^^^<>v<<v<^v>>>^>>v^><<>vvv><^>>v><v><>v>>^>v><<><<>^<>^^^vv><v^>v^^>>^>^<^v<v<^^<^vvvv>v<v>^>v^>^><^<vvvv><^><><<v<>v<v^><^<v^>^v^^<<<<^><^^<^><>>^v<<^<<^vv>v>>v<^<^vv>><v<vv>v<v<v>^v<>^>v<>^v<<<v>>^^v>>><vvv>v^>^v^v>^^^v<vvvv>><^>vvv^<vv^^vv><<<>v<>v>^<vvv^<^<v<v<^vv^^>>vv^<^^v^><^^^^^v<^<v<^>>>vv^v^>^<v>^<><v^<^v>>><^v^<<v<<v<>v>^v<v^v>>^^v<<v<v<<>>>vv>>^v>>^<<<<^><<<><^^>>v<>^vvvv>v^^^>^^^>^<vvvv><^^v<v<>v<^v^v<<v^^^v^<v<^v>v^^<>^>^<^v>vv<v^vv<^<<>v><<^><><^^v<<><^^><>^v>^<><<^<^^<<>vv<>^^<<^>><<<>>vvv>^>v^^v^><<^>v>^>^<^<<>v<^>vv^v^v<>vv<<v>vv<vv><^>v^<>^vv^v^<v<^>>>>v^v><^<><<>vv^<vvv^>>vvv^>v>>><^^vv<vvvv>v<^<^>>^^>^^vv>>><^v<>^v^<<>v^^^<v>^>>^<^<v>>^v<^^^<v>^v>^>>v<vv>>^<v^<<>>^>>><v>v^<<^<v>>^<<^^<>v<^v<^<>v^v>^^v<vvvv>^vv>vvv>v^<^>><v^^vv<<<^>vvvv<>>^^<>v^<><>v<^<>v<>^>v<>vv<v^v>>v<v<^<v^^v^vv^vvv><^^>v>><>>^<^^<>>^>^<v^>>vvv^v><v>>^>^>v><><<><vv^v>v<>^v<^vv^^^<>^^<<^^^v<>><v<^<^<^<^^><v^v<^>v^>vvvv>^^v^>^<v<^^^>>^<<vv^<><><^^^^<<>^<><v>vv^<><^>^^<>v^<>>>v><>vvvvv>v>v^^>^<<vvvv<>vv>>v<<^<>^^^v^<><>>^<<<v<v<>>>><><v>v<v<>>^>^^^^vv^^<<><^^<<vv<^<>v>vv<v<><<<^<<v<<<<>v<>>^<^>^>><v>v>><^^<>><<<><<><v^^v<<><^<^v<v^><^^v<<>><<<<^>v^<v>><v^><v<vvv>v^v^<v><<>>v<><<v>^<>><>>^><>v^v>v<<>v<>v^^><<>>>v<<>>>>^>v>><v<<>>>vv>v>^<^^^<>v<v>^<^^v^vvv^>vv>^<v><vvvv>^<<>vvv<<<vv>^^<^>^>>v>v<<<<<>^^vv^>>v>^<^<v^v^>^v>>v>^v<><>^<^>v>v<<<^^^v>^<<<>vvv^v^^>^>>^>v>v<>^^><>>v>^>v<<<^^^v^<v^vv>><><^<^<><vvv<v^>>^v>vv<^v<<^vv>v^<<v>v>v>^v^>^v<<^v^vv>v<v>^<<><v^>>v<>><v<<<^v<<>vvv^<vv<vvv<<>^vv^^v><^>v^vv<<v^<<^^^<^<>^^<<>v<><<v>^><>^<><<v<v^^>vv<>^<v<^<vvv>vv>v><^^v<>><^v^v><><>><v<v>vv<>>><v^^v<>><<^>>><^^^vvv<<<vv<<^v<<<>><<vv>>>>v<<<<<vv><><v>v^^<<^vv^<vv<>>vv>^<>^v^^<>^^^vv>v^^<v<><v>v<v>>^v<v<>>^<v^^><>v^^^>v^^v<vv><^>v^v^<>v>v<v<^^>>v<^^vv^v<^^^^vv<<><<^>>^^<<v^^<<^>v^>>^^^><^^>^v^v>^<<v<vv<<<v<^^^>^>>^v<>^<^>v>^>^v^<^^^<^vv<v><^^>>v<v>^>^v^>>>>^v>^^<<^<v^v<^<<v<<^><^^<v^<><v>v^<<v^^<><<>>><vv<<><>^<>>>v<<v^^^v^^<<<vv<<^<^<^vv^<><><<^^<^^>v^>^<v<>>v^v<><<v>^^v>^<^<vvv<v>v^v>>>^^<^<v^>^vv<<<v<<>^><><^<>v>>>v<v^<>v>><^^^v^^^v<^^<vv^^^>v>v<>>^^<><>v>^<v<>^>>>><>v>^v>^vv^v<vv<<^^>><v<>^>^^<v<^>^<vvv>><>^<<>>><<<><>^^<<<v<>v^>v>v<v>^^^>^>^v<<>v>vv>><<<v>^^<v><vv<<v^^>^>>^><^>v<^<^v>><^^>v<vv^^><><>^><<><>v^>v<><^^>><>^<^^v<^<<v>><v><<<^^<<v<^vv^v<>><>>>^>v<vvv^>^<><v^><^<<^vv<^v^v^v<>v^^v>v^<^>^vv^>>><<>v^vv^<>^v^><<v^v<v>v^<><>>v^v^><>v^vvv^^^<<^<<v<<v<^vv^>>v^v>^^<v<>><>v>>v^<>^>v>^>><<>v^v><^v>v>>><v<v><^<^^>vv<v><^>^<^>^^v><><v<^^v<<><^<<v^<v<<><^^vvv^v>^>^<>>vv>v^^v^^vv<^^>><v^^vv><^v>v^<<v<^v>vvv<>>^v><<>^v<<<>^><^vv><<^^<v^>v<<v>^vv<>^v>>>><<<<^^<^v>^<^^<^<^^>>^^v>^^^^v^^^<<>^^vv<<v^^><v>><^<<><>^>v<>>v^^^>^v^^v^<v^v>v>>>>>^v>^>^^<vvv^^<v^<<<v<<>v>><^^^v<<^^<v>>^<^<^><^<<v^v><<vv<^<>>v>v>^v<><<v>^>vv^v<v>v><^<v>><>^<vv<v^^^^v<^^>><<^^>v>v>^^^<>v>^v^^>vv^vv<^^>><>^>^<>v>><>^v<<v>v>^><^^^v^<vv><<^v^>v^>vv>v^<>v><vv><^v>v<><v^v^v<^v<>^v<v^<<><<v>>^v><v>^^<>vvv^>^<<v^>><^>><^<>^v<v<v<^vvv<><<^v^<v>><<<v>^<^<v>v>^vv^v>v<^^vv<<vvv^<v>><>vv^>v<<>v<vvvv>>v>^^>>><<<^>^vv>><v>^^^>v<^vv<>v<<<v<<<<v>>>>^<^^^^>v<^^<><v>v>v<v^>vv^>v>v<^>^v^<>v>>vvv>^^><^vvv>><>>>^<<^<v<>>>v^^><v<v>>^><>v<^^v^<<v><>^<>>><^v^v>>>^vvvv^<><<<v<^>>v>^v^<v<v<<^<<v^vv^v>v<v<>>v<v^<<<><v^>><^<<^>^^><v>v<^v^<^>v>^<<v>v^<>v^<>vv^<>^>^>v^>^vv<>^^<<>>v<>^v<><v^><><<<vv>v>v^>vv^><<<<v>^v<><>^^<vv>v^^v^^^<v<^^><v^v<>><v<vv>^<>>><vv<^v<<>>^><>>v<v^v^>>>v<<>v<<<<<<<^v<<^^^v<^v<>v^^<<<^<>>v^vv<v>^<^^<^^<<^>vv><^<^^v<<<^><^v<^><>v<vv^>^v^^>>><<vv^^v><^<<^<>>^>>^<<<<v^vv<>>>v>^v>><>v>>v>><>v>><^^><v>^^vv<^^<^>vv><<^>><<><v>^vvv><^v^>vvv^>>^<><^>^<<>>v^v>v<<>^>>^>v<^^<^<<>^^v<vvvvv^^^<^<>^^v>v<>^<^^<<v>v^^vvv^^v>^vv<v^>^<>v<^v^>^<v><v<<<^v<v<v^^<vvv>vv<<vv>v^<<v<^<vv><^>^><^^<^^<<v^^<v^v<v^^^^>^>vv^<>^<>^>^^<^v><<<^>vv^vv>v^v<>^^v^<^^^vvv^><v^<v^^<v<>v^<><>v>vv<^v^>>^v<^^vv>vv>^>><<<<v^^<^><>^><>>v<>>v>^v<^vv>^^>^<^<<v^>>v^v<^^v<vv<^<><^^>^^<>^^^<vv<v<<^^>^>^vv<^>><^<vvv^<>>vv^><v>v^>^vv>^>v^^<>>^v<>>v<^>^v>vv^<vv<^^>>^<v>>>>vvv>vv>^><^v<<<>^^v>v^v<^^^v^^>^><<^^>^<v>><^^^^^<v<vv<v<^<>^^<^v<^>>vv>>^v^vv<>><>^>>>^<v>^^^^><^<<<v<>^v<><vvv^<^^>vv^>>v<vvvv><v^v><^vv<^v<><vvv<vv>v<>^v^<<>>>>v^^>^vv<<vvv<^^><v><><<>v^v<^<^>><vv>^^><^>^><<><v<^v^><^<><>vv>>>>^><<^^^<^v^>^>^^>^<^><v><^^<^^<>><><v>><<<>^>^^v<>^<<<v>>vv>^>>^>^<>>vv<^^vv<>v<>^^>^v<v^^^^v<>^<v>v^v>^^^<v>v<<<^vv^><>^<v>>^^vv>v^<<^><>>vv^^^^^>v>>v<<<>^<vvv<<><><^v<^v<^>^<>^vvv>^>v><<<vv<>v>vv<v<<v>^<^^>v^v>^<^v^<<vvv^^<>^v<<^>^<><>^^<>>^^<^v^<^<v<><<^><v<>v^^>v^v^^^<^v<<^v>^>>^^^^^><<<vv^>>v^><v^^vv><>v^^<^v<^<v^^><<v>v^^^><^^^><<<<<>^<<^<>>v<<v^v^^v<<>^<vv>>><^^^<>>>>vvv>v<>>>v^v^v<^<<^>^<<>v>>^>^^><^><<^v^^<^<>v^v>vv<>>>>>>v<<><v^<v<>>^^>v<<<>^<<v><^><<^v>vv>>>><><>v^<^v><v^<<<<^v><^>v>>^^^v<^>>^>>v<<^<<>vvv>>^v<>>^v><<<^v^v<><v>^vvv<v<v>^^^<><vv^<<>vvv<v<^^v^^><v<^v<^v^<v<^>^^^>>v>^<v^>>^<><<><vv<>vv>^v^>>^<<v<^^v>v<v<vvv>><><<><vvvvv<^v<^>^^><>^<<>^v<<>>v^vv<<>^^v^v^v><^>v>v<^<<^<^>vv>^v<<^>^>>v^<<v^>v^^v^^<v^v>>><vv><<<>^v>><><v<vv<^>v<>><^v>^^v<<<<^v^vv<<<<><><^<^<^v><<^^v^<<<<<^^><^^>vv<v<^<v>v<^><><v<>vvv^<vv>v^>^>^^^v<<^<^^>vv<v^v^v>^vv^><^v^<<>v<^^>^vv<<>^<<><^>v^<<^<>v><><>v<<^^><^^^v>>v>^vv<v^>>^v^^<><<<<<^>^v^<^<^^>^vv<^>v^^v^<>v<><v>v^v>vvv><><<><>vv<vvv^v>^^>^^^<><^>^^^>v<vvvv<>vv<v<v^^>><>v<>>v^>v^^vv^>v>>><v<<<<v<^v>><^^>^v^v<v^v^^^vvv>>>vv<^>><<<^>><^<^>^<^>^>>v^<^<>^<^^<><vvv^^<>^<>>><<v>^<^<v<<><^<<^><^^>vv<>^^><v^v<vv<^<vvv<<^>v^>>v>>>v<<^vv^<><>>>^^<^v^>>^>>><<v<<^<vv><^<>^>>^v>>><^^^<<<vv<<v<v>^vv><><<>^^^<>^<vv^<^<<v>^^><vv>><>>>^>vv>^<^<>>^<^^><v>v^><v>vv><><>>><><<^^v<<^v<v>vv<><><<^v>^v<>^<^^^v^>^<^><^v>v>^v<>><^^v^^^^^<><v<>>vvv<v^^<>v>>>>^<<><^v>vv>>^^><<><><^^^<^<^<<^v>^^^><v>>>>><<v<v>v^^^<>>v<vv<^<>v^^^v<><^>v>><<><>v<^><<>>><>v>^<>>^>v^v<<<<>^<v^vv^>vv<<><v^vv<v<v<<>>>>>vv<><>^<^v>vv^<<v<^v^^<<^<<^^v^>>><<>^<>><^>>><v<>><<>^^>><<<^^^^^v>>^<<>>vvvv<^v<v^^<^>^vv<vv<>v<<<^><>>>>vv^<^v>v<^<>^v>>^<^^v^>>><>^^<^v>>v<<>vv<vvvv<>vv>^><>v^<>^<<^vv<v^^v<vvvv><^>>^v^>^^<<<^>>^^>^<^^<^<<<v^<^^v<<vv^<<^^^vv><v<vv^>v^^v<v>^^<^v<^>>><<>vv<<^><<v^v^^^v<vv>^>vv<^>>^<v<>vv>>>^>>><<v<^<>^<<<>>^<<>><^<<^^^>>v^^>v<<<>v>v>v<v<^>^<>>>^vvv><<^^<<><v<><^<v<vvv>v>>>>vv^^v<v<^<^><v>^v<<v<vv>>v>v<<<<><<>vv<><^^^<>>v<v<vvv><v^<vv^>>><v^^<>>>^^<><^<^v^><vv>>^^v>^<<v^>v>^^>^v^<v<^<v^v><>>v^^<^v^^<<>^^>v^^>><<<<^<^^v>^^v>v<<vv^^vv>^>v^<v<v><>vv>>^<v^v^<v<^>^v>v^^>vvvvv<v><<>vv>vvvvvv>>v>>^^^<v>vv^^><<v>>v^^^^v>vv>v<^v>>>>^>^><v^>^<v<vv>v>^>><v>><<>>^vv<vv^^<^^>>>>><><<^<v<><<v>^><^vv^v>>>>>v>^>^<vv>^v^>v<^v^<^<<vv<<>v<>>^vv<<>^v^v>><><<>>v^^<<>^^<v><>v<<^^<^^>^^>^<^><>>v<>>^^<^>><<<v<>>>^v^>v>v<<^^<<^>v<v^>>v^^v^^<<>^v>v><v^>v<^^>^<vv><vv^<>v<><^<<<vv<<v>v<^<<<<^^>v^v^^><<><^^^<v>v^^>>>vvv><>vv<>>^^v^v<<^>v^^v^>vv>^<<v<^<v^>^^<<v<^^>^v^^<^^v<<>>vv<^>>^><><>v>>v<>^<v^^><<>>>\n"
     ]
    }
   ],
   "source": []
  },
  {
   "cell_type": "code",
   "execution_count": 16,
   "metadata": {},
   "outputs": [
    {
     "name": "stdout",
     "output_type": "stream",
     "text": [
      "2572\n"
     ]
    }
   ],
   "source": [
    "#location is a tuple, x,y\n",
    "def move(location,direction):\n",
    "    if direction == '^':\n",
    "        new_location=(location[0],location[1]+1)\n",
    "    elif direction == '>':\n",
    "        new_location=(location[0]+1,location[1])\n",
    "    elif direction == 'v':\n",
    "        new_location=(location[0],location[1]-1)\n",
    "    elif direction == '<':\n",
    "        new_location=(location[0]-1,location[1])\n",
    "    return new_location\n",
    "\n",
    "\n",
    "puzzle_input = open('day_3_input.txt',\"r\")\n",
    "\n",
    "with open('day_3_input.txt',\"r\") as f:\n",
    "    puzzle_input = f.read()\n",
    "\n",
    "location=(0,0)\n",
    "\n",
    "houses_visited = set()\n",
    "houses_visited.add(location)\n",
    "\n",
    "for instruction in puzzle_input:\n",
    "    location = move(location,instruction)\n",
    "    houses_visited.add(location)\n",
    "    \n",
    "print(len(houses_visited))"
   ]
  },
  {
   "cell_type": "markdown",
   "metadata": {},
   "source": [
    "--- Part Two ---\n",
    "The next year, to speed up the process, Santa creates a robot version of himself, Robo-Santa, to deliver presents with him.\n",
    "\n",
    "Santa and Robo-Santa start at the same location (delivering two presents to the same starting house), then take turns moving based on instructions from the elf, who is eggnoggedly reading from the same script as the previous year.\n",
    "\n",
    "This year, how many houses receive at least one present?\n",
    "\n",
    "For example:\n",
    "\n",
    "^v delivers presents to 3 houses, because Santa goes north, and then Robo-Santa goes south.\n",
    "^>v< now delivers presents to 3 houses, and Santa and Robo-Santa end up back where they started.\n",
    "^v^v^v^v^v now delivers presents to 11 houses, with Santa going one direction and Robo-Santa going the other."
   ]
  },
  {
   "cell_type": "code",
   "execution_count": 24,
   "metadata": {},
   "outputs": [
    {
     "name": "stdout",
     "output_type": "stream",
     "text": [
      "2631\n"
     ]
    }
   ],
   "source": [
    "#add robo santa - alternate instructions:\n",
    "\n",
    "location=(0,0)\n",
    "\n",
    "houses_visited = set()\n",
    "houses_visited.add(location)\n",
    "\n",
    "for instruction in puzzle_input[::2]:\n",
    "    location = move(location,instruction)\n",
    "    houses_visited.add(location)\n",
    "    \n",
    "location=(0,0)\n",
    "\n",
    "for instruction in puzzle_input[1::2]:\n",
    "    location = move(location,instruction)\n",
    "    houses_visited.add(location)\n",
    "    \n",
    "print(len(houses_visited))"
   ]
  },
  {
   "cell_type": "code",
   "execution_count": 21,
   "metadata": {},
   "outputs": [
    {
     "data": {
      "text/plain": [
       "'v>v<vvv<<vv^v<v>vv>v'"
      ]
     },
     "execution_count": 21,
     "metadata": {},
     "output_type": "execute_result"
    }
   ],
   "source": [
    "puzzle_input[0:20]"
   ]
  },
  {
   "cell_type": "code",
   "execution_count": 23,
   "metadata": {},
   "outputs": [
    {
     "data": {
      "text/plain": [
       "'><v<v^<>vv'"
      ]
     },
     "execution_count": 23,
     "metadata": {},
     "output_type": "execute_result"
    }
   ],
   "source": [
    "puzzle_input[1:20:2]"
   ]
  },
  {
   "cell_type": "markdown",
   "metadata": {},
   "source": [
    "--- Day 4: The Ideal Stocking Stuffer ---\n",
    "Santa needs help mining some AdventCoins (very similar to bitcoins) to use as gifts for all the economically forward-thinking little girls and boys.\n",
    "\n",
    "To do this, he needs to find MD5 hashes which, in hexadecimal, start with at least five zeroes. The input to the MD5 hash is some secret key (your puzzle input, given below) followed by a number in decimal. To mine AdventCoins, you must find Santa the lowest positive number (no leading zeroes: 1, 2, 3, ...) that produces such a hash.\n",
    "\n",
    "For example:\n",
    "\n",
    "If your secret key is abcdef, the answer is 609043, because the MD5 hash of abcdef609043 starts with five zeroes (000001dbbfa...), and it is the lowest such number to do so.\n",
    "If your secret key is pqrstuv, the lowest number it combines with to make an MD5 hash starting with five zeroes is 1048970; that is, the MD5 hash of pqrstuv1048970 looks like 000006136ef....\n",
    "Your puzzle input is ckczppom"
   ]
  },
  {
   "cell_type": "code",
   "execution_count": 85,
   "metadata": {},
   "outputs": [
    {
     "name": "stdout",
     "output_type": "stream",
     "text": [
      "117946\n"
     ]
    }
   ],
   "source": [
    "from hashlib import algorithms_guaranteed\n",
    "\n",
    "key = 'ckczppom'\n",
    "\n",
    "hash_res = ''\n",
    "number = 0\n",
    "\n",
    "while hash_res[:5] != '00000':\n",
    "    \n",
    "    number += 1\n",
    "    to_hash = (key + str(number)).encode()\n",
    "    h=md5()\n",
    "    h.update(to_hash)\n",
    "    hash_res = h.hexdigest()\n",
    "\n",
    "print(number)\n",
    "\n",
    "\n"
   ]
  },
  {
   "cell_type": "markdown",
   "metadata": {},
   "source": [
    "--- Part Two ---\n",
    "Now find one that starts with six zeroes."
   ]
  },
  {
   "cell_type": "code",
   "execution_count": 86,
   "metadata": {},
   "outputs": [
    {
     "name": "stdout",
     "output_type": "stream",
     "text": [
      "3938038\n"
     ]
    }
   ],
   "source": [
    "from hashlib import algorithms_guaranteed\n",
    "\n",
    "key = 'ckczppom'\n",
    "\n",
    "hash_res = ''\n",
    "number = 0\n",
    "\n",
    "while hash_res[:6] != '000000':\n",
    "    \n",
    "    number += 1\n",
    "    to_hash = (key + str(number)).encode()\n",
    "    h=md5()\n",
    "    h.update(to_hash)\n",
    "    hash_res = h.hexdigest()\n",
    "\n",
    "print(number)"
   ]
  },
  {
   "cell_type": "markdown",
   "metadata": {},
   "source": [
    "--- Day 5: Doesn't He Have Intern-Elves For This? ---\n",
    "Santa needs help figuring out which strings in his text file are naughty or nice.\n",
    "\n",
    "A nice string is one with all of the following properties:\n",
    "\n",
    "It contains at least three vowels (aeiou only), like aei, xazegov, or aeiouaeiouaeiou.\n",
    "It contains at least one letter that appears twice in a row, like xx, abcdde (dd), or aabbccdd (aa, bb, cc, or dd).\n",
    "It does not contain the strings ab, cd, pq, or xy, even if they are part of one of the other requirements.\n",
    "For example:\n",
    "\n",
    "ugknbfddgicrmopn is nice because it has at least three vowels (u...i...o...), a double letter (...dd...), and none of the disallowed substrings.\n",
    "aaa is nice because it has at least three vowels and a double letter, even though the letters used by different rules overlap.\n",
    "jchzalrnumimnmhp is naughty because it has no double letter.\n",
    "haegwjzuvuyypxyu is naughty because it contains the string xy.\n",
    "dvszwmarrgswjxmb is naughty because it contains only one vowel.\n",
    "How many strings are nice?"
   ]
  },
  {
   "cell_type": "code",
   "execution_count": 106,
   "metadata": {},
   "outputs": [
    {
     "name": "stdout",
     "output_type": "stream",
     "text": [
      "238\n"
     ]
    }
   ],
   "source": [
    "def is_nice(string):\n",
    "    \n",
    "    is_nice = True\n",
    "    \n",
    "    if sum([letter in ['a','e','i','o','u'] for letter in string]) < 3:\n",
    "        is_nice = False\n",
    "    \n",
    "    if sum([string[i] == string[i-1] for i in range(1,len(string))]) == 0:\n",
    "        is_nice = False\n",
    "    \n",
    "    for forbidden in ['ab','cd','pq','xy']:\n",
    "        if forbidden in string:\n",
    "            is_nice = False\n",
    "        \n",
    "    return(is_nice)\n",
    "\n",
    "counter_nice = 0\n",
    "\n",
    "with open('day_4_input.txt',\"r\") as f:\n",
    "    for line in f:\n",
    "        if is_nice(line):\n",
    "            counter_nice+=1\n",
    "            \n",
    "print(counter_nice)                      "
   ]
  },
  {
   "cell_type": "markdown",
   "metadata": {},
   "source": [
    "--- Part Two ---\n",
    "Realizing the error of his ways, Santa has switched to a better model of determining whether a string is naughty or nice. None of the old rules apply, as they are all clearly ridiculous.\n",
    "\n",
    "Now, a nice string is one with all of the following properties:\n",
    "\n",
    "It contains a pair of any two letters that appears at least twice in the string without overlapping, like xyxy (xy) or aabcdefgaa (aa), but not like aaa (aa, but it overlaps).\n",
    "It contains at least one letter which repeats with exactly one letter between them, like xyx, abcdefeghi (efe), or even aaa.\n",
    "For example:\n",
    "\n",
    "qjhvhtzxzqqjkmpb is nice because is has a pair that appears twice (qj) and a letter that repeats with exactly one letter between them (zxz).\n",
    "xxyxx is nice because it has a pair that appears twice and a letter that repeats with one between, even though the letters used by each rule overlap.\n",
    "uurcxstgmygtbstg is naughty because it has a pair (tg) but no repeat with a single letter between them.\n",
    "ieodomkazucvgmuy is naughty because it has a repeating letter with one between (odo), but no pair that appears twice.\n",
    "How many strings are nice under these new rules?"
   ]
  },
  {
   "cell_type": "code",
   "execution_count": 134,
   "metadata": {},
   "outputs": [
    {
     "name": "stdout",
     "output_type": "stream",
     "text": [
      "69\n"
     ]
    }
   ],
   "source": [
    "def is_nice(string):\n",
    "    rule1 = False\n",
    "    rule2 = False\n",
    "    \n",
    "    is_nice = True\n",
    "    \n",
    "    for i in range(0,len(string)-2):\n",
    "        if string[i:i+2] in string[i+2:]:\n",
    "            rule1 = True\n",
    "        \n",
    "        if string[i] == string [i+2]:\n",
    "            rule2 = True           \n",
    "    \n",
    "    \n",
    "    if rule1 and rule2:\n",
    "        return True\n",
    "    else:\n",
    "        return False\n",
    "\n",
    "\n",
    "counter_nice = 0\n",
    "\n",
    "with open('day_4_input.txt',\"r\") as f:\n",
    "    for line in f:\n",
    "        if is_nice(line):\n",
    "            counter_nice+=1\n",
    "            \n",
    "print(counter_nice)\n",
    "\n",
    "\n",
    "        "
   ]
  },
  {
   "cell_type": "markdown",
   "metadata": {},
   "source": [
    "--- Day 6: Probably a Fire Hazard ---\n",
    "Because your neighbors keep defeating you in the holiday house decorating contest year after year, you've decided to deploy one million lights in a 1000x1000 grid.\n",
    "\n",
    "Furthermore, because you've been especially nice this year, Santa has mailed you instructions on how to display the ideal lighting configuration.\n",
    "\n",
    "Lights in your grid are numbered from 0 to 999 in each direction; the lights at each corner are at 0,0, 0,999, 999,999, and 999,0. The instructions include whether to turn on, turn off, or toggle various inclusive ranges given as coordinate pairs. Each coordinate pair represents opposite corners of a rectangle, inclusive; a coordinate pair like 0,0 through 2,2 therefore refers to 9 lights in a 3x3 square. The lights all start turned off.\n",
    "\n",
    "To defeat your neighbors this year, all you have to do is set up your lights by doing the instructions Santa sent you in order.\n",
    "\n",
    "For example:\n",
    "\n",
    "turn on 0,0 through 999,999 would turn on (or leave on) every light.\n",
    "toggle 0,0 through 999,0 would toggle the first line of 1000 lights, turning off the ones that were on, and turning on the ones that were off.\n",
    "turn off 499,499 through 500,500 would turn off (or leave off) the middle four lights.\n",
    "After following the instructions, how many lights are lit?"
   ]
  },
  {
   "cell_type": "code",
   "execution_count": 98,
   "metadata": {},
   "outputs": [
    {
     "name": "stdout",
     "output_type": "stream",
     "text": [
      "569999\n"
     ]
    }
   ],
   "source": [
    "def split(text):\n",
    "    left,right = text.split(' through ')\n",
    "    br = right.split(',')\n",
    "    for i,v in enumerate(br):\n",
    "        br[i]=int(v)\n",
    "        \n",
    "    left = left.split(' ')\n",
    "    tl = left[-1].split(',')\n",
    "    \n",
    "    for i,v in enumerate(tl):\n",
    "        tl[i]=int(v)\n",
    "        \n",
    "    if left[0] == 'toggle':\n",
    "        instruction = 'toggle'\n",
    "    else:\n",
    "        instruction = left[1]\n",
    "    return(instruction,tl,br)\n",
    "\n",
    "\n",
    "def update_lights(state,tl,br):\n",
    "    global lights\n",
    "\n",
    "    for row in range(tl[0],br[0]+1):\n",
    "        for col in range(tl[1],br[1]+1):\n",
    "            lights[row][col] = state\n",
    "    \n",
    "def change_lights(instruction,tl,br):\n",
    "    global lights\n",
    "\n",
    "    if instruction =='on':\n",
    "        update_lights(1,tl,br)\n",
    "    elif instruction == 'off':\n",
    "        update_lights(0,tl,br)\n",
    "\n",
    "    elif instruction =='toggle':\n",
    "        for row in range(tl[0],br[0]+1):\n",
    "            for col in range(tl[1],br[1]+1):\n",
    "                lights[row][col] += (1,-1)[lights[row][col] == 1]\n",
    "    \n",
    "    else:\n",
    "        print('ERROR')\n",
    "    \n",
    "###THIS IS WRONG DON'T DO THIS lights = [[0]*1000]*1000####THIS IS WRONG!!!\n",
    "lights = [[0 for i in range(0,1000)] for j in range(0,1000)]\n",
    "\n",
    "with open('day_5_input.txt',\"r\") as f:\n",
    "    for line in f:\n",
    "        instruction,tl,br = split(line)\n",
    "        change_lights(instruction,tl,br)\n",
    "        \n",
    "brightness = sum([sum(row) for row in lights])\n",
    "print(brightness)\n",
    "\n"
   ]
  },
  {
   "cell_type": "markdown",
   "metadata": {},
   "source": [
    "--- Part Two ---\n",
    "You just finish implementing your winning light pattern when you realize you mistranslated Santa's message from Ancient Nordic Elvish.\n",
    "\n",
    "The light grid you bought actually has individual brightness controls; each light can have a brightness of zero or more. The lights all start at zero.\n",
    "\n",
    "The phrase turn on actually means that you should increase the brightness of those lights by 1.\n",
    "\n",
    "The phrase turn off actually means that you should decrease the brightness of those lights by 1, to a minimum of zero.\n",
    "\n",
    "The phrase toggle actually means that you should increase the brightness of those lights by 2.\n",
    "\n",
    "What is the total brightness of all lights combined after following Santa's instructions?\n",
    "\n",
    "For example:\n",
    "\n",
    "turn on 0,0 through 0,0 would increase the total brightness by 1.\n",
    "toggle 0,0 through 999,999 would increase the total brightness by 2000000."
   ]
  },
  {
   "cell_type": "code",
   "execution_count": 104,
   "metadata": {},
   "outputs": [
    {
     "name": "stdout",
     "output_type": "stream",
     "text": [
      "17836115\n"
     ]
    }
   ],
   "source": [
    "def split(text):\n",
    "    left,right = text.split(' through ')\n",
    "    br = right.split(',')\n",
    "    for i,v in enumerate(br):\n",
    "        br[i]=int(v)\n",
    "        \n",
    "    left = left.split(' ')\n",
    "    tl = left[-1].split(',')\n",
    "    \n",
    "    for i,v in enumerate(tl):\n",
    "        tl[i]=int(v)\n",
    "        \n",
    "    if left[0] == 'toggle':\n",
    "        instruction = 'toggle'\n",
    "    else:\n",
    "        instruction = left[1]\n",
    "    return(instruction,tl,br)\n",
    "\n",
    "\n",
    "def update_lights(state,tl,br):\n",
    "    global lights\n",
    "\n",
    "    for row in range(tl[0],br[0]+1):\n",
    "        for col in range(tl[1],br[1]+1):\n",
    "            lights[row][col] += state\n",
    "            if lights[row][col]<0:\n",
    "                lights[row][col]=0\n",
    "    \n",
    "def change_lights(instruction,tl,br):\n",
    "    global lights\n",
    "\n",
    "    if instruction =='on':\n",
    "        update_lights(1,tl,br)\n",
    "    elif instruction == 'off':\n",
    "        update_lights(-1,tl,br)\n",
    "\n",
    "    elif instruction =='toggle':\n",
    "        update_lights(2,tl,br)\n",
    "\n",
    "    \n",
    "    else:\n",
    "        print('ERROR')\n",
    "    \n",
    "lights = [[0 for i in range(0,1000)] for j in range(0,1000)]\n",
    "\n",
    "with open('day_5_input.txt',\"r\") as f:\n",
    "    for line in f:\n",
    "        instruction,tl,br = split(line)\n",
    "        change_lights(instruction,tl,br)\n",
    "        \n",
    "brightness = sum([sum(row) for row in lights])\n",
    "print(brightness)"
   ]
  },
  {
   "cell_type": "markdown",
   "metadata": {},
   "source": [
    "--- Day 7: Some Assembly Required ---\n",
    "\n",
    "This year, Santa brought little Bobby Tables a set of wires and bitwise logic gates! Unfortunately, little Bobby is a little under the recommended age range, and he needs help assembling the circuit.\n",
    "\n",
    "Each wire has an identifier (some lowercase letters) and can carry a 16-bit signal (a number from 0 to 65535). A signal is provided to each wire by a gate, another wire, or some specific value. Each wire can only get a signal from one source, but can provide its signal to multiple destinations. A gate provides no signal until all of its inputs have a signal.\n",
    "\n",
    "The included instructions booklet describes how to connect the parts together: x AND y -> z means to connect wires x and y to an AND gate, and then connect its output to wire z.\n",
    "\n",
    "For example:\n",
    "\n",
    "123 -> x means that the signal 123 is provided to wire x.\n",
    "x AND y -> z means that the bitwise AND of wire x and wire y is provided to wire z.\n",
    "p LSHIFT 2 -> q means that the value from wire p is left-shifted by 2 and then provided to wire q.\n",
    "NOT e -> f means that the bitwise complement of the value from wire e is provided to wire f.\n",
    "Other possible gates include OR (bitwise OR) and RSHIFT (right-shift). If, for some reason, you'd like to emulate the circuit instead, almost all programming languages (for example, C, JavaScript, or Python) provide operators for these gates.\n",
    "\n",
    "For example, here is a simple circuit:\n",
    "\n",
    "123 -> x\n",
    "456 -> y\n",
    "x AND y -> d\n",
    "x OR y -> e\n",
    "x LSHIFT 2 -> f\n",
    "y RSHIFT 2 -> g\n",
    "NOT x -> h\n",
    "NOT y -> i\n",
    "After it is run, these are the signals on the wires:\n",
    "\n",
    "d: 72\n",
    "e: 507\n",
    "f: 492\n",
    "g: 114\n",
    "h: 65412\n",
    "i: 65079\n",
    "x: 123\n",
    "y: 456\n",
    "In little Bobby's kit's instructions booklet (provided as your puzzle input), what signal is ultimately provided to wire a?"
   ]
  },
  {
   "cell_type": "code",
   "execution_count": 260,
   "metadata": {},
   "outputs": [
    {
     "name": "stdout",
     "output_type": "stream",
     "text": [
      "2797\n"
     ]
    }
   ],
   "source": [
    "instructions = [] #format is a = something to eval\n",
    "wires = {}\n",
    "\n",
    "def what_value(signal):\n",
    "    global wires\n",
    "    \n",
    "    if signal in wires:\n",
    "        return wires[signal]\n",
    "    elif signal[0] in ['0','1','2','3','4','5','6','7','8','9']:\n",
    "        return int(signal)\n",
    "    else:\n",
    "        return 'missing'\n",
    "\n",
    "\n",
    "def process_instruction(instruction): #if used, return True\n",
    "    global instructions\n",
    "    global wires\n",
    "    \n",
    "    if len(instruction[1]) == 1: #must be an assign?\n",
    "        var1 = what_value(instruction[1][0])\n",
    "        if var1 == 'missing':\n",
    "            return False\n",
    "        else:\n",
    "            wires[instruction[0]] = var1\n",
    "            return True\n",
    "    \n",
    "    if len(instruction[1]) == 2: #must be a NOT\n",
    "        var1 = what_value(instruction[1][1])\n",
    "        if var1 == 'missing':\n",
    "            return False\n",
    "        else:\n",
    "            wires[instruction[0]] = ~var1\n",
    "            return True\n",
    "    \n",
    "    var1 = what_value(instruction[1][0])\n",
    "    var2 = what_value(instruction[1][2])\n",
    "    #print(var1)###\n",
    "    #print(var2)###\n",
    "\n",
    "    if (var1 != 'missing') and (var2 != 'missing'):\n",
    "           \n",
    "        if instruction[1][1] == 'AND':\n",
    "            wires[instruction[0]] = var1 & var2\n",
    "            return True\n",
    "              \n",
    "        elif instruction[1][1] == 'LSHIFT':\n",
    "            wires[instruction[0]] = var1<<var2\n",
    "            #print('HERE DOING LSHIFT')###\n",
    "            #print(instruction[0])###\n",
    "            #print(var1)###\n",
    "            #print(var2)###\n",
    "            return True\n",
    "        \n",
    "        elif instruction[1][1] == 'RSHIFT':\n",
    "            wires[instruction[0]] = var1>>var2\n",
    "            return True\n",
    "        \n",
    "        elif instruction[1][1] == 'OR':\n",
    "            wires[instruction[0]] = var1 | var2\n",
    "            return True\n",
    "        \n",
    "        else:\n",
    "            print(\"ERROR AT 12\")\n",
    "            return False\n",
    "\n",
    "    return False\n",
    "\n",
    "with open(\"day_7_input_part2.txt\") as f:\n",
    "    for line in f:\n",
    "        line = line.strip()\n",
    "        parts = line.split(\" -> \")\n",
    "        parts[0] = parts[0].split(\" \")\n",
    "        \n",
    "        if len(parts[0]) == 1:\n",
    "            if parts[0][0][0] in ['0','1','2','3','4','5','6','7','8','9']:\n",
    "                wires[parts[1]] = int(parts[0][0])\n",
    "            elif parts[0][0] in wires:\n",
    "                wires[parts[1]] = wires[parts[0][0]]\n",
    "            else:\n",
    "                instructions.append([parts[1],parts[0]])\n",
    "        else:\n",
    "            instructions.append([parts[1],parts[0]])\n",
    "\n",
    "def main():\n",
    "    #instructions = [] #format is a = something to eval\n",
    "    #wires = {}\n",
    "    loops_complete = 0\n",
    "    \n",
    "    #for i in range(0,10): ###\n",
    "    while len(instructions) > 0:\n",
    "        done_something = False\n",
    "        #print('len of instructions = ' + str(len(instructions)))\n",
    "\n",
    "        for i,step in enumerate(instructions):\n",
    "            if process_instruction(step):\n",
    "                instructions.pop(i)\n",
    "                done_something = True\n",
    "\n",
    "        if done_something == False:\n",
    "            #print(\"did nothing\")\n",
    "            #print(loops_complete)\n",
    "            #print(instructions)\n",
    "            break\n",
    "        loops_complete += 1\n",
    " \n",
    "\n",
    "main()\n",
    "print(wires['a'])"
   ]
  },
  {
   "cell_type": "markdown",
   "metadata": {},
   "source": [
    "--- Part Two ---\n",
    "Now, take the signal you got on wire a, override wire b to that signal, and reset the other wires (including wire a). What new signal is ultimately provided to wire a?"
   ]
  },
  {
   "cell_type": "code",
   "execution_count": 258,
   "metadata": {},
   "outputs": [],
   "source": [
    "Answer - see code above"
   ]
  },
  {
   "cell_type": "markdown",
   "metadata": {},
   "source": [
    "--- Day 8: Matchsticks ---\n",
    "Space on the sleigh is limited this year, and so Santa will be bringing his list as a digital copy. He needs to know how much space it will take up when stored.\n",
    "\n",
    "It is common in many programming languages to provide a way to escape special characters in strings. For example, C, JavaScript, Perl, Python, and even PHP handle special characters in very similar ways.\n",
    "\n",
    "However, it is important to realize the difference between the number of characters in the code representation of the string literal and the number of characters in the in-memory string itself.\n",
    "\n",
    "For example:\n",
    "\n",
    "\"\" is 2 characters of code (the two double quotes), but the string contains zero characters.\n",
    "\"abc\" is 5 characters of code, but 3 characters in the string data.\n",
    "\"aaa\\\"aaa\" is 10 characters of code, but the string itself contains six \"a\" characters and a single, escaped quote character, for a total of 7 characters in the string data.\n",
    "\"\\x27\" is 6 characters of code, but the string itself contains just one - an apostrophe ('), escaped using hexadecimal notation.\n",
    "Santa's list is a file that contains many double-quoted string literals, one on each line. The only escape sequences used are \\\\ (which represents a single backslash), \\\" (which represents a lone double-quote character), and \\x plus two hexadecimal characters (which represents a single character with that ASCII code).\n",
    "\n",
    "Disregarding the whitespace in the file, what is the number of characters of code for string literals minus the number of characters in memory for the values of the strings in total for the entire file?\n",
    "\n",
    "For example, given the four strings above, the total number of characters of string code (2 + 5 + 10 + 6 = 23) minus the total number of characters in memory for string values (0 + 3 + 7 + 1 = 11) is 23 - 11 = 12."
   ]
  },
  {
   "cell_type": "code",
   "execution_count": 19,
   "metadata": {},
   "outputs": [
    {
     "name": "stdout",
     "output_type": "stream",
     "text": [
      "ans = 1333\n"
     ]
    }
   ],
   "source": [
    "literals = 0\n",
    "memory = 0\n",
    "\n",
    "with open('day_8_input.txt') as f:\n",
    "    for line in f:\n",
    "        line = line.strip()\n",
    "        literals += len(line)\n",
    "        memory += len(eval(line))\n",
    "        \n",
    "print('ans = ' + str(literals - memory))"
   ]
  },
  {
   "cell_type": "markdown",
   "metadata": {},
   "source": [
    "--- Part Two ---\n",
    "Now, let's go the other way. In addition to finding the number of characters of code, you should now encode each code representation as a new string and find the number of characters of the new encoded representation, including the surrounding double quotes.\n",
    "\n",
    "For example:\n",
    "\n",
    "\"\" encodes to \"\\\"\\\"\", an increase from 2 characters to 6.\n",
    "\"abc\" encodes to \"\\\"abc\\\"\", an increase from 5 characters to 9.\n",
    "\"aaa\\\"aaa\" encodes to \"\\\"aaa\\\\\\\"aaa\\\"\", an increase from 10 characters to 16.\n",
    "\"\\x27\" encodes to \"\\\"\\\\x27\\\"\", an increase from 6 characters to 11.\n",
    "Your task is to find the total number of characters to represent the newly encoded strings minus the number of characters of code in each original string literal. For example, for the strings above, the total encoded length (6 + 9 + 16 + 11 = 42) minus the characters in the original code representation (23, just like in the first part of this puzzle) is 42 - 23 = 19."
   ]
  },
  {
   "cell_type": "code",
   "execution_count": 41,
   "metadata": {},
   "outputs": [
    {
     "name": "stdout",
     "output_type": "stream",
     "text": [
      "ans = 2046\n"
     ]
    }
   ],
   "source": [
    "literals = 0\n",
    "encodes = 0\n",
    "\n",
    "def encode_len(text):\n",
    "    length = 2\n",
    "    for char in text:\n",
    "        if char in ['\"','\\\\']:\n",
    "            length += 2\n",
    "        else:\n",
    "            length += 1        \n",
    "    return length\n",
    "\n",
    "with open('day_8_input.txt') as f:\n",
    "    for line in f:\n",
    "        line = line.strip()\n",
    "        literals += len(line)\n",
    "        encodes += encode_len(line)\n",
    "        \n",
    "print('ans = ' + str(encodes - literals))"
   ]
  },
  {
   "cell_type": "markdown",
   "metadata": {},
   "source": [
    "--- Day 9: All in a Single Night ---\n",
    "Every year, Santa manages to deliver all of his presents in a single night.\n",
    "\n",
    "This year, however, he has some new locations to visit; his elves have provided him the distances between every pair of locations. He can start and end at any two (different) locations he wants, but he must visit each location exactly once. What is the shortest distance he can travel to achieve this?\n",
    "\n",
    "For example, given the following distances:\n",
    "\n",
    "London to Dublin = 464\n",
    "London to Belfast = 518\n",
    "Dublin to Belfast = 141\n",
    "The possible routes are therefore:\n",
    "\n",
    "Dublin -> London -> Belfast = 982\n",
    "London -> Dublin -> Belfast = 605\n",
    "London -> Belfast -> Dublin = 659\n",
    "Dublin -> Belfast -> London = 659\n",
    "Belfast -> Dublin -> London = 605\n",
    "Belfast -> London -> Dublin = 982\n",
    "The shortest of these is London -> Dublin -> Belfast = 605, and so the answer is 605 in this example.\n",
    "\n",
    "What is the distance of the shortest route?"
   ]
  },
  {
   "cell_type": "code",
   "execution_count": 5,
   "metadata": {},
   "outputs": [
    {
     "name": "stdout",
     "output_type": "stream",
     "text": [
      "207\n",
      "804\n"
     ]
    }
   ],
   "source": [
    "cities = set()\n",
    "distances = {}\n",
    "routes = []\n",
    "journey_lengths = []\n",
    "\n",
    "with open(\"day_9_input.txt\") as f:\n",
    "    for line in f:\n",
    "        line = line.strip()\n",
    "        city1 = line.split(' to ')[0]\n",
    "        city2 = line.split(' =')[0].split(' to ')[1]\n",
    "        dist = int(line.split(' = ')[1])\n",
    "        distances[(city1,city2)] = dist\n",
    "        distances[(city2,city1)] = dist\n",
    "        cities.add(city1)\n",
    "        cities.add(city2)\n",
    "        \n",
    "\n",
    "def route_helper(cities,route):\n",
    "    #print(cities) ###\n",
    "\n",
    "    if cities == set():\n",
    "        routes.append(route)\n",
    "        #print('2 route found going ' + str(routes))###\n",
    "        return()\n",
    "    else:\n",
    "        for city in cities:\n",
    "            #print('appending city of ' + str(city))###\n",
    "            new_route = route.copy()\n",
    "            new_route.append(city)\n",
    "            to_visit = cities.copy()\n",
    "            to_visit.remove(city)\n",
    "            #print(routes)###\n",
    "            #print('\\n')###\n",
    "            route_helper(to_visit,new_route)\n",
    "    return()\n",
    "\n",
    "      \n",
    "route_helper(cities,[])\n",
    "\n",
    "#print(routes)\n",
    "\n",
    "for route in routes:\n",
    "    distance = 0\n",
    "    for i in range(len(route)-1):\n",
    "        distance += distances[(route[i],route[i+1])]\n",
    "    journey_lengths.append(distance)\n",
    "    \n",
    "print(min(journey_lengths))\n",
    "print(max(journey_lengths))\n",
    "    "
   ]
  },
  {
   "cell_type": "markdown",
   "metadata": {},
   "source": [
    "--- Part Two ---\n",
    "The next year, just to show off, Santa decides to take the route with the longest distance instead.\n",
    "\n",
    "He can still start and end at any two (different) locations he wants, and he still must visit each location exactly once.\n",
    "\n",
    "For example, given the distances above, the longest route would be 982 via (for example) Dublin -> London -> Belfast.\n",
    "\n",
    "What is the distance of the longest route?"
   ]
  },
  {
   "cell_type": "code",
   "execution_count": null,
   "metadata": {},
   "outputs": [],
   "source": []
  },
  {
   "cell_type": "code",
   "execution_count": 4,
   "metadata": {},
   "outputs": [
    {
     "name": "stdout",
     "output_type": "stream",
     "text": [
      "207\n",
      "804\n"
     ]
    }
   ],
   "source": [
    "#try doing without generating list of routes\n",
    "\n",
    "cities = set()\n",
    "distances = {}\n",
    "journey_lengths = []\n",
    "\n",
    "with open(\"day_9_input.txt\") as f:\n",
    "    for line in f:\n",
    "        line = line.strip()\n",
    "        city1 = line.split(' to ')[0]\n",
    "        city2 = line.split(' =')[0].split(' to ')[1]\n",
    "        dist = int(line.split(' = ')[1])\n",
    "        distances[(city1,city2)] = dist\n",
    "        distances[(city2,city1)] = dist\n",
    "        cities.add(city1)\n",
    "        cities.add(city2)\n",
    "        \n",
    "\n",
    "def route_helper(cities,was_at,distance):\n",
    "    new_distance = distance\n",
    "    if cities == set():\n",
    "        journey_lengths.append(distance)\n",
    "        return()\n",
    "    else:\n",
    "        for city in cities:\n",
    "            to_visit = cities.copy()\n",
    "            to_visit.remove(city)\n",
    "            if was_at != 'NA':\n",
    "                new_distance = distance + distances[(was_at,city)]\n",
    "            route_helper(to_visit,city,new_distance)\n",
    "    return()\n",
    "\n",
    "      \n",
    "route_helper(cities,'NA',0)\n",
    "    \n",
    "print(min(journey_lengths))\n",
    "print(max(journey_lengths))"
   ]
  },
  {
   "cell_type": "markdown",
   "metadata": {},
   "source": [
    "--- Day 10: Elves Look, Elves Say ---\n",
    "Today, the Elves are playing a game called look-and-say. They take turns making sequences by reading aloud the previous sequence and using that reading as the next sequence. For example, 211 is read as \"one two, two ones\", which becomes 1221 (1 2, 2 1s).\n",
    "\n",
    "Look-and-say sequences are generated iteratively, using the previous value as input for the next step. For each step, take the previous value, and replace each run of digits (like 111) with the number of digits (3) followed by the digit itself (1).\n",
    "\n",
    "For example:\n",
    "\n",
    "1 becomes 11 (1 copy of digit 1).\n",
    "11 becomes 21 (2 copies of digit 1).\n",
    "21 becomes 1211 (one 2 followed by one 1).\n",
    "1211 becomes 111221 (one 1, one 2, and two 1s).\n",
    "111221 becomes 312211 (three 1s, two 2s, and one 1).\n",
    "Starting with the digits in your puzzle input, apply this process 40 times. What is the length of the result?\n",
    "\n",
    "Your puzzle input is 1321131112."
   ]
  },
  {
   "cell_type": "code",
   "execution_count": 63,
   "metadata": {},
   "outputs": [
    {
     "name": "stdout",
     "output_type": "stream",
     "text": [
      "6989950\n",
      "40\n"
     ]
    }
   ],
   "source": [
    "answer = '1321131112'\n",
    "\n",
    "def look_and_say(num_in):\n",
    "    num_out =''\n",
    "    position= 0\n",
    "    \n",
    "    while position < len(num_in):\n",
    "        \n",
    "        count = 1\n",
    "        \n",
    "        while position + count < len(num_in) and num_in[position + count] == num_in[position]:\n",
    "            count += 1\n",
    "        num_out+=(str(count))\n",
    "        num_out+=(str(num_in[position]))\n",
    "        \n",
    "        position += count\n",
    "    \n",
    "    return(num_out)\n",
    "\n",
    "for j in range(50):\n",
    "    answer = look_and_say(answer)\n",
    "    \n",
    "print(len(answer))\n",
    "print(how_many)"
   ]
  },
  {
   "cell_type": "markdown",
   "metadata": {},
   "source": [
    "--- Part Two ---\n",
    "Neat, right? You might also enjoy hearing John Conway talking about this sequence (that's Conway of Conway's Game of Life fame).\n",
    "\n",
    "Now, starting again with the digits in your puzzle input, apply this process 50 times. What is the length of the new result?"
   ]
  },
  {
   "cell_type": "markdown",
   "metadata": {},
   "source": [
    "--- Day 11: Corporate Policy ---\n",
    "Santa's previous password expired, and he needs help choosing a new one.\n",
    "\n",
    "To help him remember his new password after the old one expires, Santa has devised a method of coming up with a password based on the previous one. Corporate policy dictates that passwords must be exactly eight lowercase letters (for security reasons), so he finds his new password by incrementing his old password string repeatedly until it is valid.\n",
    "\n",
    "Incrementing is just like counting with numbers: xx, xy, xz, ya, yb, and so on. Increase the rightmost letter one step; if it was z, it wraps around to a, and repeat with the next letter to the left until one doesn't wrap around.\n",
    "\n",
    "Unfortunately for Santa, a new Security-Elf recently started, and he has imposed some additional password requirements:\n",
    "\n",
    "Passwords must include one increasing straight of at least three letters, like abc, bcd, cde, and so on, up to xyz. They cannot skip letters; abd doesn't count.\n",
    "Passwords may not contain the letters i, o, or l, as these letters can be mistaken for other characters and are therefore confusing.\n",
    "Passwords must contain at least two different, non-overlapping pairs of letters, like aa, bb, or zz.\n",
    "For example:\n",
    "\n",
    "hijklmmn meets the first requirement (because it contains the straight hij) but fails the second requirement requirement (because it contains i and l).\n",
    "abbceffg meets the third requirement (because it repeats bb and ff) but fails the first requirement.\n",
    "abbcegjk fails the third requirement, because it only has one double letter (bb).\n",
    "The next password after abcdefgh is abcdffaa.\n",
    "The next password after ghijklmn is ghjaabcc, because you eventually skip all the passwords that start with ghi..., since i is not allowed.\n",
    "Given Santa's current password (your puzzle input), what should his next password be?\n",
    "\n",
    "Your puzzle input is cqjxjnds."
   ]
  },
  {
   "cell_type": "code",
   "execution_count": 59,
   "metadata": {},
   "outputs": [
    {
     "name": "stdout",
     "output_type": "stream",
     "text": [
      "cqjxxyzz\n"
     ]
    }
   ],
   "source": [
    "alphabet = ['a','b','c','d','e','f','g','h','i','j','k','l','m','n','o','p','q','r','s','t','u','v','w','x','y','z']\n",
    "alphabet_plus_1 = alphabet[1:]\n",
    "alphabet_plus_1.append(alphabet[0])\n",
    "next_letter=dict(zip(alphabet,alphabet_plus_1))\n",
    "\n",
    "\n",
    "def count_up(letters):\n",
    "    letters_list = []\n",
    "    #carry = False\n",
    "    \n",
    "    for letter in letters:\n",
    "        letters_list.append(letter)\n",
    "    \n",
    "    for i in range(1,len(letters)+1):\n",
    "        if (i == 1 or carry == True) and i < len(letters)+1:\n",
    "            letters_list[-i]=next_letter[letters_list[-i]]\n",
    "            if letters_list[-i] == 'a':\n",
    "                carry = True\n",
    "            else:\n",
    "                carry = False\n",
    "            \n",
    "            \n",
    "    letters=''\n",
    "    for letter in letters_list:\n",
    "        letters = letters + letter\n",
    "    return(letters)\n",
    "\n",
    "\n",
    "def rule_1(letters): #can't have yza!\n",
    "    \n",
    "    for i in range(0,len(letters)-2):\n",
    "        if letters[i+1] == next_letter[letters[i]] and letters[i+2] == next_letter[letters[i+1]]:\n",
    "            if letters[i] not in ['y','z'] and letters[i+1] not in ['z','a']:\n",
    "                return True\n",
    "        \n",
    "    return False\n",
    "\n",
    "        \n",
    "def rule_2(letters):\n",
    "    for letter in letters:\n",
    "        if letter in ['i','o','l']:\n",
    "            return False\n",
    "    return True\n",
    "\n",
    "\n",
    "def rule_3(letters): #at least 2 different non-overlapping pairs\n",
    "    \n",
    "    paired_letters =''\n",
    "    \n",
    "    for i in range(0,len(letters)-1):\n",
    "        if letters[i] == letters[i+1]:\n",
    "            if letters[i] not in paired_letters:\n",
    "                paired_letters = paired_letters + letters[i]\n",
    "    \n",
    "    if len(paired_letters) >= 2:\n",
    "        return True\n",
    "    else:\n",
    "        return False\n",
    "\n",
    "    \n",
    "pw =count_up('cqjxjnds')\n",
    "while rule_1(pw) == False or rule_2(pw) == False or rule_3(pw) == False:\n",
    "    pw = count_up(pw)\n",
    "print(pw)"
   ]
  },
  {
   "cell_type": "markdown",
   "metadata": {},
   "source": [
    "--- Part Two ---\n",
    "Santa's password expired again. What's the next one?\n",
    "wrong = cqjyyzaa"
   ]
  },
  {
   "cell_type": "code",
   "execution_count": 60,
   "metadata": {},
   "outputs": [
    {
     "name": "stdout",
     "output_type": "stream",
     "text": [
      "cqkaabcc\n"
     ]
    }
   ],
   "source": [
    "pw =count_up('cqjxxyzz')\n",
    "while rule_1(pw) == False or rule_2(pw) == False or rule_3(pw) == False:\n",
    "    pw = count_up(pw)\n",
    "print(pw)"
   ]
  },
  {
   "cell_type": "markdown",
   "metadata": {},
   "source": [
    "--- Day 12: JSAbacusFramework.io ---\n",
    "Santa's Accounting-Elves need help balancing the books after a recent order. Unfortunately, their accounting software uses a peculiar storage format. That's where you come in.\n",
    "\n",
    "They have a JSON document which contains a variety of things: arrays ([1,2,3]), objects ({\"a\":1, \"b\":2}), numbers, and strings. Your first job is to simply find all of the numbers throughout the document and add them together.\n",
    "\n",
    "For example:\n",
    "\n",
    "[1,2,3] and {\"a\":2,\"b\":4} both have a sum of 6.\n",
    "[[[3]]] and {\"a\":{\"b\":4},\"c\":-1} both have a sum of 3.\n",
    "{\"a\":[-1,1]} and [-1,{\"a\":1}] both have a sum of 0.\n",
    "[] and {} both have a sum of 0.\n",
    "You will not encounter any strings containing numbers.\n",
    "\n",
    "What is the sum of all numbers in the document?"
   ]
  },
  {
   "cell_type": "code",
   "execution_count": 80,
   "metadata": {},
   "outputs": [
    {
     "name": "stdout",
     "output_type": "stream",
     "text": [
      "111754\n"
     ]
    }
   ],
   "source": [
    "with open('day_12_input.txt') as f:\n",
    "    document = f.read()\n",
    "santa_sum = 0\n",
    "numbers =['0','1','2','3','4','5','6','7','8','9']\n",
    "#document = ' [[[3]]] and {\"a\":{\"b\":4},\"c\":-1} both '###\n",
    "position = 0\n",
    "\n",
    "while position < len(document) - 1:\n",
    "    number_length = 0\n",
    "    while document[position + number_length] in numbers:\n",
    "        number_length += 1\n",
    "    \n",
    "    if number_length > 0:\n",
    "        if document[position - 1] == '-':\n",
    "            santa_sum -= int(document[position:position+number_length])\n",
    "        else:\n",
    "            santa_sum += int(document[position:position+number_length])\n",
    "    \n",
    "    position += 1 + number_length\n",
    "    \n",
    "print(santa_sum)    "
   ]
  },
  {
   "cell_type": "markdown",
   "metadata": {},
   "source": [
    "--- Part Two ---\n",
    "Uh oh - the Accounting-Elves have realized that they double-counted everything red.\n",
    "\n",
    "Ignore any object (and all of its children) which has any property with the value \"red\". Do this only for objects ({...}), not arrays ([...]).\n",
    "\n",
    "[1,2,3] still has a sum of 6.\n",
    "[1,{\"c\":\"red\",\"b\":2},3] now has a sum of 4, because the middle object is ignored.\n",
    "{\"d\":\"red\",\"e\":[1,2,3,4],\"f\":5} now has a sum of 0, because the entire structure is ignored.\n",
    "[1,\"red\",5] has a sum of 6, because \"red\" in an array has no effect."
   ]
  },
  {
   "cell_type": "code",
   "execution_count": 118,
   "metadata": {},
   "outputs": [
    {
     "name": "stdout",
     "output_type": "stream",
     "text": [
      "111754\n"
     ]
    }
   ],
   "source": [
    "#Think need to use the JSON part! Let's re-do part one using JSON first:\n",
    "import json\n",
    "with open('day_12_input.txt') as f:\n",
    "    document = json.load(f)\n",
    "\n",
    "santa_sum = 0\n",
    "\n",
    "def number_helper(structure):\n",
    "    global santa_sum\n",
    "    #deal with type of structure being a dict, a list, a str and an int:\n",
    "    if type(structure) == int:\n",
    "        santa_sum += structure\n",
    "    elif type(structure) == str:\n",
    "        return\n",
    "    elif type(structure) == list:\n",
    "        for thing in structure:\n",
    "            number_helper(thing)\n",
    "    elif type(structure) == dict:\n",
    "        for k,v in structure.items():\n",
    "            number_helper(v)\n",
    "    else:\n",
    "        print(\"something has gone wrong\")\n",
    "\n",
    "            \n",
    "number_helper(document)\n",
    "print(santa_sum)"
   ]
  },
  {
   "cell_type": "raw",
   "metadata": {},
   "source": [
    "--- Part Two ---"
   ]
  },
  {
   "cell_type": "code",
   "execution_count": 119,
   "metadata": {},
   "outputs": [
    {
     "name": "stdout",
     "output_type": "stream",
     "text": [
      "65402\n"
     ]
    }
   ],
   "source": [
    "import json\n",
    "with open('day_12_input.txt') as f:\n",
    "    document = json.load(f)\n",
    "\n",
    "santa_sum = 0\n",
    "\n",
    "def number_helper(structure):\n",
    "    global santa_sum\n",
    "    #deal with type of structure being a dict, a list, a str and an int:\n",
    "    if type(structure) == int:\n",
    "        santa_sum += structure\n",
    "    elif type(structure) == str:\n",
    "        return\n",
    "    elif type(structure) == list:\n",
    "        for thing in structure:\n",
    "            number_helper(thing)\n",
    "    elif type(structure) == dict:\n",
    "        for k,v in structure.items():\n",
    "            if v =='red':\n",
    "                return       \n",
    "        for k,v in structure.items():\n",
    "            number_helper(v)\n",
    "    else:\n",
    "        print(\"something has gone wrong\")\n",
    "\n",
    "            \n",
    "number_helper(document)\n",
    "print(santa_sum)"
   ]
  },
  {
   "cell_type": "markdown",
   "metadata": {},
   "source": [
    "--- Day 13: Knights of the Dinner Table ---\n",
    "In years past, the holiday feast with your family hasn't gone so well. Not everyone gets along! This year, you resolve, will be different. You're going to find the optimal seating arrangement and avoid all those awkward conversations.\n",
    "\n",
    "You start by writing up a list of everyone invited and the amount their happiness would increase or decrease if they were to find themselves sitting next to each other person. You have a circular table that will be just big enough to fit everyone comfortably, and so each person will have exactly two neighbors.\n",
    "\n",
    "For example, suppose you have only four attendees planned, and you calculate their potential happiness as follows:\n",
    "\n",
    "Alice would gain 54 happiness units by sitting next to Bob.\n",
    "Alice would lose 79 happiness units by sitting next to Carol.\n",
    "Alice would lose 2 happiness units by sitting next to David.\n",
    "Bob would gain 83 happiness units by sitting next to Alice.\n",
    "Bob would lose 7 happiness units by sitting next to Carol.\n",
    "Bob would lose 63 happiness units by sitting next to David.\n",
    "Carol would lose 62 happiness units by sitting next to Alice.\n",
    "Carol would gain 60 happiness units by sitting next to Bob.\n",
    "Carol would gain 55 happiness units by sitting next to David.\n",
    "David would gain 46 happiness units by sitting next to Alice.\n",
    "David would lose 7 happiness units by sitting next to Bob.\n",
    "David would gain 41 happiness units by sitting next to Carol.\n",
    "Then, if you seat Alice next to David, Alice would lose 2 happiness units (because David talks so much), but David would gain 46 happiness units (because Alice is such a good listener), for a total change of 44.\n",
    "\n",
    "If you continue around the table, you could then seat Bob next to Alice (Bob gains 83, Alice gains 54). Finally, seat Carol, who sits next to Bob (Carol gains 60, Bob loses 7) and David (Carol gains 55, David gains 41). The arrangement looks like this:\n",
    "\n",
    "     +41 +46\n",
    "+55   David    -2\n",
    "Carol       Alice\n",
    "+60    Bob    +54\n",
    "     -7  +83\n",
    "After trying every other seating arrangement in this hypothetical scenario, you find that this one is the most optimal, with a total change in happiness of 330.\n",
    "\n",
    "What is the total change in happiness for the optimal seating arrangement of the actual guest list?"
   ]
  },
  {
   "cell_type": "code",
   "execution_count": 190,
   "metadata": {},
   "outputs": [
    {
     "name": "stdout",
     "output_type": "stream",
     "text": [
      "709\n",
      "['David', 'George', 'Alice', 'Bob', 'Mallory', 'Eric', 'Carol', 'Frank']\n"
     ]
    }
   ],
   "source": [
    "lookup ={}\n",
    "people = set()\n",
    "max_happiness = 0\n",
    "best_seat_arr = []\n",
    "\n",
    "\n",
    "def find_optimum(set_of_names,list_taken_seats):\n",
    "    if set_of_names == set():\n",
    "        calculate_happiness(list_taken_seats)\n",
    "    else:\n",
    "        for name in set_of_names:\n",
    "            names_left = set_of_names.copy()\n",
    "            names_left.remove(name)\n",
    "            next_list_taken = list_taken_seats.copy()\n",
    "            next_list_taken.append(name)\n",
    "            find_optimum(names_left,next_list_taken)\n",
    "            \n",
    "        \n",
    "        \n",
    "def calculate_happiness(seat_arr):\n",
    "    global max_happiness\n",
    "    global best_seat_arr\n",
    "    happiness = 0\n",
    "    seat_arr.append(seat_arr[0])\n",
    "    seat_arr.insert(0,seat_arr[-2])\n",
    "    for i in range(1,len(seat_arr)-1):\n",
    "        person = seat_arr[i]\n",
    "        to_left = seat_arr[i-1]\n",
    "        to_right = seat_arr[i+1]\n",
    "        happiness += lookup[(person,to_left)]\n",
    "        happiness += lookup[(person,to_right)]\n",
    "    \n",
    "    if happiness > max_happiness:\n",
    "        max_happiness = happiness\n",
    "        best_seat_arr = seat_arr\n",
    "        \n",
    "    return happiness\n",
    "        \n",
    "\n",
    "with open('day_13_input.txt') as f:\n",
    "    for line in f:\n",
    "        \n",
    "        line = line.strip()\n",
    "        line = line.split(' ')\n",
    "        name_1 = line[0]\n",
    "        name_2 = line[-1][0:-1]\n",
    "        if line[2] == 'gain':\n",
    "            happiness_units = int(line[3])\n",
    "        else:\n",
    "            happiness_units = -int(line[3])\n",
    "        lookup[(name_1,name_2)] = happiness_units\n",
    "        people.add(name_1)\n",
    "\n",
    "\n",
    "        \n",
    "find_optimum(people,[])\n",
    "print(max_happiness)\n",
    "print(best_seat_arr[1:-1])"
   ]
  },
  {
   "cell_type": "code",
   "execution_count": 188,
   "metadata": {},
   "outputs": [
    {
     "data": {
      "text/plain": [
       "330"
      ]
     },
     "execution_count": 188,
     "metadata": {},
     "output_type": "execute_result"
    }
   ],
   "source": [
    "calculate_happiness(['Alice', 'David', 'Carol', 'Bob'])"
   ]
  },
  {
   "cell_type": "markdown",
   "metadata": {},
   "source": [
    "--- Part Two ---\n",
    "In all the commotion, you realize that you forgot to seat yourself. At this point, you're pretty apathetic toward the whole thing, and your happiness wouldn't really go up or down regardless of who you sit next to. You assume everyone else would be just as ambivalent about sitting next to you, too.\n",
    "\n",
    "So, add yourself to the list, and give all happiness relationships that involve you a score of 0.\n",
    "\n",
    "What is the total change in happiness for the optimal seating arrangement that actually includes yourself?"
   ]
  },
  {
   "cell_type": "code",
   "execution_count": 192,
   "metadata": {},
   "outputs": [
    {
     "name": "stdout",
     "output_type": "stream",
     "text": [
      "668\n",
      "['David', 'George', 'Alice', 'Bob', 'Mallory', 'Eric', 'Carol', 'Frank', 'Matt']\n"
     ]
    }
   ],
   "source": [
    "lookup ={}\n",
    "people = set()\n",
    "max_happiness = 0\n",
    "best_seat_arr = []\n",
    "\n",
    "\n",
    "def find_optimum(set_of_names,list_taken_seats):\n",
    "    if set_of_names == set():\n",
    "        calculate_happiness(list_taken_seats)\n",
    "    else:\n",
    "        for name in set_of_names:\n",
    "            names_left = set_of_names.copy()\n",
    "            names_left.remove(name)\n",
    "            next_list_taken = list_taken_seats.copy()\n",
    "            next_list_taken.append(name)\n",
    "            find_optimum(names_left,next_list_taken)\n",
    "            \n",
    "        \n",
    "        \n",
    "def calculate_happiness(seat_arr):\n",
    "    global max_happiness\n",
    "    global best_seat_arr\n",
    "    happiness = 0\n",
    "    seat_arr.append(seat_arr[0])\n",
    "    seat_arr.insert(0,seat_arr[-2])\n",
    "    for i in range(1,len(seat_arr)-1):\n",
    "        person = seat_arr[i]\n",
    "        to_left = seat_arr[i-1]\n",
    "        to_right = seat_arr[i+1]\n",
    "        happiness += lookup[(person,to_left)]\n",
    "        happiness += lookup[(person,to_right)]\n",
    "    \n",
    "    if happiness > max_happiness:\n",
    "        max_happiness = happiness\n",
    "        best_seat_arr = seat_arr\n",
    "        \n",
    "    return happiness\n",
    "        \n",
    "\n",
    "with open('day_13_input.txt') as f:\n",
    "    for line in f:\n",
    "        \n",
    "        line = line.strip()\n",
    "        line = line.split(' ')\n",
    "        name_1 = line[0]\n",
    "        name_2 = line[-1][0:-1]\n",
    "        if line[2] == 'gain':\n",
    "            happiness_units = int(line[3])\n",
    "        else:\n",
    "            happiness_units = -int(line[3])\n",
    "        lookup[(name_1,name_2)] = happiness_units\n",
    "        people.add(name_1)\n",
    "\n",
    "\n",
    "for name in people:\n",
    "    lookup[('Matt',name)]=0\n",
    "    lookup[(name,'Matt')]=0\n",
    "people.add('Matt')\n",
    "        \n",
    "find_optimum(people,[])\n",
    "print(max_happiness)\n",
    "print(best_seat_arr[1:-1])"
   ]
  },
  {
   "cell_type": "markdown",
   "metadata": {},
   "source": [
    "--- Day 14: Reindeer Olympics ---\n",
    "This year is the Reindeer Olympics! Reindeer can fly at high speeds, but must rest occasionally to recover their energy. Santa would like to know which of his reindeer is fastest, and so he has them race.\n",
    "\n",
    "Reindeer can only either be flying (always at their top speed) or resting (not moving at all), and always spend whole seconds in either state.\n",
    "\n",
    "For example, suppose you have the following Reindeer:\n",
    "\n",
    "Comet can fly 14 km/s for 10 seconds, but then must rest for 127 seconds.\n",
    "Dancer can fly 16 km/s for 11 seconds, but then must rest for 162 seconds.\n",
    "After one second, Comet has gone 14 km, while Dancer has gone 16 km. After ten seconds, Comet has gone 140 km, while Dancer has gone 160 km. On the eleventh second, Comet begins resting (staying at 140 km), and Dancer continues on for a total distance of 176 km. On the 12th second, both reindeer are resting. They continue to rest until the 138th second, when Comet flies for another ten seconds. On the 174th second, Dancer flies for another 11 seconds.\n",
    "\n",
    "In this example, after the 1000th second, both reindeer are resting, and Comet is in the lead at 1120 km (poor Dancer has only gotten 1056 km by that point). So, in this situation, Comet would win (if the race ended at 1000 seconds).\n",
    "\n",
    "Given the descriptions of each reindeer (in your puzzle input), after exactly 2503 seconds, what distance has the winning reindeer traveled?"
   ]
  },
  {
   "cell_type": "code",
   "execution_count": 255,
   "metadata": {},
   "outputs": [
    {
     "name": "stdout",
     "output_type": "stream",
     "text": [
      "1120\n"
     ]
    }
   ],
   "source": [
    "winning_distance = 0\n",
    "race_time = 1000\n",
    "\n",
    "\n",
    "def travelled(speed,fly_dur,rest_dur,race_dur):\n",
    "    distance = 0\n",
    "    num_cycles = race_dur//(fly_dur + rest_dur)\n",
    "    \n",
    "    remainder_duration = race_dur - (num_cycles *(fly_dur + rest_dur))\n",
    "    if remainder_duration > fly_dur:\n",
    "        remainder_duration = fly_dur\n",
    "    \n",
    "    \n",
    "    distance = (speed*fly_dur*num_cycles) + (speed * remainder_duration)\n",
    "    return distance\n",
    "\n",
    "\n",
    "with open('day_14_input.txt') as f:\n",
    "    for line in f:\n",
    "        line.strip()\n",
    "        line = line.split(' ')\n",
    "        speed = int(line[3])\n",
    "        fly_duration = int(line[6])\n",
    "        rest_duration = int(line[13])\n",
    "        distance = travelled(speed,fly_duration,rest_duration,race_time)\n",
    "        if distance > winning_distance:\n",
    "            winning_distance = distance\n",
    "\n",
    "print(winning_distance)\n",
    "        \n"
   ]
  },
  {
   "cell_type": "markdown",
   "metadata": {},
   "source": [
    "--- Part Two ---\n",
    "Seeing how reindeer move in bursts, Santa decides he's not pleased with the old scoring system.\n",
    "\n",
    "Instead, at the end of each second, he awards one point to the reindeer currently in the lead. (If there are multiple reindeer tied for the lead, they each get one point.) He keeps the traditional 2503 second time limit, of course, as doing otherwise would be entirely ridiculous.\n",
    "\n",
    "Given the example reindeer from above, after the first second, Dancer is in the lead and gets one point. He stays in the lead until several seconds into Comet's second burst: after the 140th second, Comet pulls into the lead and gets his first point. Of course, since Dancer had been in the lead for the 139 seconds before that, he has accumulated 139 points by the 140th second.\n",
    "\n",
    "After the 1000th second, Dancer has accumulated 689 points, while poor Comet, our old champion, only has 312. So, with the new scoring system, Dancer would win (if the race ended at 1000 seconds).\n",
    "\n",
    "Again given the descriptions of each reindeer (in your puzzle input), after exactly 2503 seconds, how many points does the winning reindeer have?"
   ]
  },
  {
   "cell_type": "code",
   "execution_count": 260,
   "metadata": {},
   "outputs": [
    {
     "name": "stdout",
     "output_type": "stream",
     "text": [
      "1102\n"
     ]
    }
   ],
   "source": [
    "#completely new approach.... GIVE POINTS TO REINDEER IN LEAD DON'T CALCULATE STUPID DISTANCE GARARARHGG!\n",
    "\n",
    "\n",
    "def travelling(time, rein):\n",
    "    time = time % (rein[1]+rein[2])\n",
    "    if time < rein[1]:\n",
    "        return True\n",
    "    else:\n",
    "        return False\n",
    "    \n",
    "    pass#return True / False\n",
    "\n",
    "#for i in range(0,race_time+1):\n",
    "\n",
    "reindeer = []\n",
    "with open('day_14_input.txt') as f:\n",
    "    for line in f:\n",
    "        line.strip()\n",
    "        line = line.split(' ')\n",
    "        speed = int(line[3])\n",
    "        fly_duration = int(line[6])\n",
    "        rest_duration = int(line[13])\n",
    "        reindeer.append([speed,fly_duration,rest_duration])\n",
    "\n",
    "        \n",
    "distances = [0 for x in range(len(reindeer))]\n",
    "race_time = 2503\n",
    "scores = [0 for x in range(len(reindeer))]\n",
    "\n",
    "for time in range(0,race_time):\n",
    "    for i,rein in enumerate(reindeer):\n",
    "        if travelling(time,rein):\n",
    "            distances[i] += rein[0]\n",
    "    front_distance = max(distances)\n",
    "    for i,d in enumerate(distances):\n",
    "        if d == front_distance:\n",
    "            scores[i] += 1\n",
    "        \n",
    "\n",
    "print(max(scores))"
   ]
  },
  {
   "cell_type": "markdown",
   "metadata": {},
   "source": [
    "--- Day 15: Science for Hungry People ---\n",
    "Today, you set out on the task of perfecting your milk-dunking cookie recipe. All you have to do is find the right balance of ingredients.\n",
    "\n",
    "Your recipe leaves room for exactly 100 teaspoons of ingredients. You make a list of the remaining ingredients you could use to finish the recipe (your puzzle input) and their properties per teaspoon:\n",
    "\n",
    "capacity (how well it helps the cookie absorb milk)\n",
    "durability (how well it keeps the cookie intact when full of milk)\n",
    "flavor (how tasty it makes the cookie)\n",
    "texture (how it improves the feel of the cookie)\n",
    "calories (how many calories it adds to the cookie)\n",
    "You can only measure ingredients in whole-teaspoon amounts accurately, and you have to be accurate so you can reproduce your results in the future. The total score of a cookie can be found by adding up each of the properties (negative totals become 0) and then multiplying together everything except calories.\n",
    "\n",
    "For instance, suppose you have these two ingredients:\n",
    "\n",
    "Butterscotch: capacity -1, durability -2, flavor 6, texture 3, calories 8\n",
    "Cinnamon: capacity 2, durability 3, flavor -2, texture -1, calories 3\n",
    "Then, choosing to use 44 teaspoons of butterscotch and 56 teaspoons of cinnamon (because the amounts of each ingredient must add up to 100) would result in a cookie with the following properties:\n",
    "\n",
    "A capacity of 44*-1 + 56*2 = 68\n",
    "A durability of 44*-2 + 56*3 = 80\n",
    "A flavor of 44*6 + 56*-2 = 152\n",
    "A texture of 44*3 + 56*-1 = 76\n",
    "Multiplying these together (68 * 80 * 152 * 76, ignoring calories for now) results in a total score of 62842880, which happens to be the best score possible given these ingredients. If any properties had produced a negative total, it would have instead become zero, causing the whole score to multiply to zero.\n",
    "\n",
    "Given the ingredients in your kitchen and their properties, what is the total score of the highest-scoring cookie you can make?"
   ]
  },
  {
   "cell_type": "code",
   "execution_count": null,
   "metadata": {},
   "outputs": [],
   "source": []
  },
  {
   "cell_type": "code",
   "execution_count": null,
   "metadata": {},
   "outputs": [],
   "source": []
  }
 ],
 "metadata": {
  "kernelspec": {
   "display_name": "Python 3",
   "language": "python",
   "name": "python3"
  },
  "language_info": {
   "codemirror_mode": {
    "name": "ipython",
    "version": 3
   },
   "file_extension": ".py",
   "mimetype": "text/x-python",
   "name": "python",
   "nbconvert_exporter": "python",
   "pygments_lexer": "ipython3",
   "version": "3.7.6"
  }
 },
 "nbformat": 4,
 "nbformat_minor": 2
}
