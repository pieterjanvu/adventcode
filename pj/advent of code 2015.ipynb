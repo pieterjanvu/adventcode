{
 "cells": [
  {
   "cell_type": "markdown",
   "metadata": {},
   "source": [
    "# Advent of code challenges 2015"
   ]
  },
  {
   "cell_type": "markdown",
   "metadata": {},
   "source": [
    "**Level 1**"
   ]
  },
  {
   "cell_type": "code",
   "execution_count": 1,
   "metadata": {},
   "outputs": [
    {
     "name": "stdout",
     "output_type": "stream",
     "text": [
      "(((())))(\n"
     ]
    }
   ],
   "source": [
    "#read floorsinstruction file into variable\n",
    "f = open('floorsinstruction.txt', 'r')\n",
    "str_floorsinstruction = f.read()\n",
    "f.close()\n",
    "print(str_floorsinstruction[0:9])"
   ]
  },
  {
   "cell_type": "markdown",
   "metadata": {},
   "source": [
    "Find out which floor you're on"
   ]
  },
  {
   "cell_type": "code",
   "execution_count": 2,
   "metadata": {},
   "outputs": [
    {
     "name": "stdout",
     "output_type": "stream",
     "text": [
      "232\n"
     ]
    }
   ],
   "source": [
    "# find our which floor you're on\n",
    "def countfloors(source):\n",
    "    int_floor = 0\n",
    "    for character in source:\n",
    "        if character == '(':\n",
    "            int_floor = int_floor + 1\n",
    "        elif character == ')':\n",
    "            int_floor = int_floor - 1\n",
    "    \n",
    "    print(int_floor)\n",
    "\n",
    "countfloors(str_floorsinstruction)\n"
   ]
  },
  {
   "cell_type": "markdown",
   "metadata": {},
   "source": [
    "Find out when you first enter basement"
   ]
  },
  {
   "cell_type": "code",
   "execution_count": 3,
   "metadata": {},
   "outputs": [
    {
     "name": "stdout",
     "output_type": "stream",
     "text": [
      "current floor is : -1\n",
      "floor instruction is:  1783\n"
     ]
    }
   ],
   "source": [
    "def firstbasement(source):\n",
    "    int_floor = 0\n",
    "    int_instructioncount = 0\n",
    "    for character in source:\n",
    "        int_instructioncount = int_instructioncount + 1\n",
    "        if character == '(':\n",
    "            int_floor = int_floor + 1\n",
    "        elif character == ')':\n",
    "            int_floor = int_floor - 1\n",
    "        if int_floor < 0:\n",
    "            break\n",
    "\n",
    "    print(\"current floor is :\",int_floor)\n",
    "    print(\"floor instruction is: \",int_instructioncount)\n",
    "    \n",
    "firstbasement(str_floorsinstruction)"
   ]
  },
  {
   "cell_type": "markdown",
   "metadata": {},
   "source": [
    "**Level 2**"
   ]
  },
  {
   "cell_type": "markdown",
   "metadata": {},
   "source": [
    "Puzzle input"
   ]
  },
  {
   "cell_type": "code",
   "execution_count": 4,
   "metadata": {},
   "outputs": [
    {
     "name": "stdout",
     "output_type": "stream",
     "text": [
      "20x3x11\n",
      "15x27x5\n",
      "6x29\n"
     ]
    }
   ],
   "source": [
    "#read floorsinstruction file into variable\n",
    "f = open('parcelsinstruction.txt', 'r')\n",
    "str_parcelsinstruction = f.read()\n",
    "f.close()\n",
    "print(str_parcelsinstruction[0:20])"
   ]
  },
  {
   "cell_type": "markdown",
   "metadata": {},
   "source": [
    "find amount of wrapping/ribbon required"
   ]
  },
  {
   "cell_type": "code",
   "execution_count": 5,
   "metadata": {},
   "outputs": [
    {
     "name": "stdout",
     "output_type": "stream",
     "text": [
      "['20x3x11\\n', '15x27x5\\n', '6x29x7\\n', '30x15x9\\n', '19x29x21\\n']\n",
      "['20x3x11', '15x27x5', '6x29x7', '30x15x9', '19x29x21']\n",
      "[[20, 3, 11], [15, 27, 5], [6, 29, 7], [30, 15, 9], [19, 29, 21]]\n"
     ]
    }
   ],
   "source": [
    "# open file and readlines into string\n",
    "lst_parcelsinstruction = []\n",
    "with open('parcelsinstruction.txt') as f:\n",
    "  lst_parcelsinstruction = f.readlines()\n",
    "print(lst_parcelsinstruction[0:5])\n",
    "\n",
    "#opening this way gets rid of whitespace newlines\n",
    "lst_parcelsinstruction = []\n",
    "lst_parcelsinstruction = [line.rstrip('\\n') for line in open('parcelsinstruction.txt')]\n",
    "print(lst_parcelsinstruction[0:5])\n",
    "\n",
    "#make string into structured list\n",
    "lst_organisedparcels = []\n",
    "lst_splitparcel = []\n",
    "lstint_splitparcel = []\n",
    "for parcel in lst_parcelsinstruction:\n",
    "    lst_splitparcel = parcel.split('x')\n",
    "    lstint_splitparcel = [int(dimension) for dimension in lst_splitparcel]\n",
    "    lst_organisedparcels.append(lstint_splitparcel)\n",
    "\n",
    "print(lst_organisedparcels[0:5])"
   ]
  },
  {
   "cell_type": "code",
   "execution_count": 6,
   "metadata": {},
   "outputs": [
    {
     "name": "stdout",
     "output_type": "stream",
     "text": [
      "total area required:  1706315\n"
     ]
    }
   ],
   "source": [
    "def wrappingcalculator(parcelslist):\n",
    "    parcelslist.sort() # sort list so all dimensions are smallest to largest\n",
    "    total_area = 0\n",
    "    for parcel in parcelslist:\n",
    "        l = parcel[0] # note this is smallest\n",
    "        w = parcel[1] # note this is second smallest\n",
    "        h = parcel[2]\n",
    "        area = 2*l*w + 2*w*h + 2*h*l\n",
    "        additional_area = l*w\n",
    "        total_area = total_area + area + additional_area\n",
    "    return total_area\n",
    "\n",
    "print('total area required: ',wrappingcalculator(lst_organisedparcels))"
   ]
  },
  {
   "cell_type": "code",
   "execution_count": 7,
   "metadata": {},
   "outputs": [
    {
     "name": "stdout",
     "output_type": "stream",
     "text": [
      "total ribbon required:  3858306\n"
     ]
    }
   ],
   "source": [
    "def ribboncalculator(parcelslist):\n",
    "    parcelslist.sort() # sort list so all dimensions are smallest to largest\n",
    "    total_ribbon = 0\n",
    "    for parcel in parcelslist:\n",
    "        l = parcel[0] # note this is smallest\n",
    "        w = parcel[1] # note this is second smallest\n",
    "        h = parcel[2]\n",
    "        ribbon = 2*l + 2*w\n",
    "        additional_ribbon = l*w*h\n",
    "        total_ribbon = total_ribbon + ribbon + additional_ribbon\n",
    "    return total_ribbon\n",
    "print('total ribbon required: ',ribboncalculator(lst_organisedparcels))"
   ]
  },
  {
   "cell_type": "markdown",
   "metadata": {},
   "source": [
    "**Level 3**"
   ]
  },
  {
   "cell_type": "code",
   "execution_count": 8,
   "metadata": {},
   "outputs": [
    {
     "name": "stdout",
     "output_type": "stream",
     "text": [
      "^^<<v\n"
     ]
    }
   ],
   "source": [
    "#read presents file into variable\n",
    "f = open('presents.txt', 'r')\n",
    "str_presents = f.read()\n",
    "f.close()\n",
    "print(str_presents[0:5])"
   ]
  },
  {
   "cell_type": "code",
   "execution_count": 9,
   "metadata": {},
   "outputs": [
    {
     "name": "stdout",
     "output_type": "stream",
     "text": [
      "total unique houses with at least one present:  2565\n"
     ]
    }
   ],
   "source": [
    "# number houses receiving at least one present\n",
    "import numpy as np\n",
    "\n",
    "def housecounter(presentlist):\n",
    "    presentcounter = 1  # first present delivered to the starting house\n",
    "    gridsize = 1000\n",
    "    grid = np.zeros((gridsize,gridsize),dtype=np.int)\n",
    "    position = [int(gridsize/2),int(gridsize/2)]  # x,y position as list makes it an int even if not evenly divisible\n",
    "    grid[position[0],position[1]] = 1\n",
    "    for nextdirection in presentlist:\n",
    "        presentcounter = presentcounter + 1\n",
    "        if nextdirection == \"<\":\n",
    "            position[0] = position[0] - 1\n",
    "        elif nextdirection == \">\":\n",
    "            position[0] = position[0] + 1\n",
    "        elif nextdirection == \"^\":\n",
    "            position[1] = position[1] - 1\n",
    "        elif nextdirection == \"v\":\n",
    "            position[1] = position[1] + 1\n",
    "        \n",
    "        grid[position[0],position[1]] = grid[position[0],position[1]] + 1\n",
    "    \n",
    "    uniquehouses = 0\n",
    "    for house in np.nditer(grid):\n",
    "        if house > 0:\n",
    "            uniquehouses = uniquehouses + 1\n",
    "    \n",
    "    return uniquehouses\n",
    "\n",
    "print('total unique houses with at least one present: ',housecounter(str_presents))"
   ]
  },
  {
   "cell_type": "code",
   "execution_count": 10,
   "metadata": {},
   "outputs": [
    {
     "name": "stdout",
     "output_type": "stream",
     "text": [
      "total unique houses with at least one present:  2565\n"
     ]
    }
   ],
   "source": [
    "# matt's way of doing is better here as it is not dependent on a grid\n",
    "def housecounter2(presentlist):\n",
    "    position = [0,0]\n",
    "    uniquelocations = set()\n",
    "    uniquelocations.add(tuple(position)) # add tuple to set, needs to be tuple because lists are not hashable\n",
    "    \n",
    "    for nextdirection in presentlist:\n",
    "        if nextdirection == \"<\":\n",
    "            position[0] = position[0] - 1\n",
    "        elif nextdirection == \">\":\n",
    "            position[0] = position[0] + 1\n",
    "        elif nextdirection == \"^\":\n",
    "            position[1] = position[1] - 1\n",
    "        elif nextdirection == \"v\":\n",
    "            position[1] = position[1] + 1\n",
    "        \n",
    "        uniquelocations.add(tuple(position))\n",
    "        \n",
    "    return len(uniquelocations)\n",
    "    \n",
    "print('total unique houses with at least one present: ',housecounter2(str_presents))"
   ]
  },
  {
   "cell_type": "code",
   "execution_count": 11,
   "metadata": {},
   "outputs": [
    {
     "name": "stdout",
     "output_type": "stream",
     "text": [
      "total unique houses with at least one present:  2639\n"
     ]
    }
   ],
   "source": [
    "# Robot santa + santa, i.e. every other instruction is delivering a present\n",
    "def housecounter3(presentlist):\n",
    "    santaposition = [0,0]\n",
    "    robotsantaposition = [0,0]\n",
    "    uniquelocations = set() # sets are unique so adding to set keeps track of houses\n",
    "    uniquelocations.add(tuple(santaposition)) # add first position of santa to locations\n",
    "    \n",
    "    #slice list into odds (robot santa 1,3,5) and evens (santa 0,2,4)\n",
    "    santalist = presentlist[0::2]\n",
    "    robotsantalist = presentlist[1::2]\n",
    "\n",
    "    #iterate for santa\n",
    "    for nextdirection in santalist:\n",
    "        if nextdirection == \"<\":\n",
    "            santaposition[0] = santaposition[0] - 1\n",
    "        elif nextdirection == \">\":\n",
    "            santaposition[0] = santaposition[0] + 1\n",
    "        elif nextdirection == \"^\":\n",
    "            santaposition[1] = santaposition[1] - 1\n",
    "        elif nextdirection == \"v\":\n",
    "            santaposition[1] = santaposition[1] + 1\n",
    "        \n",
    "        uniquelocations.add(tuple(santaposition))\n",
    "        \n",
    "    #iterate for robot santa\n",
    "    for nextdirection in robotsantalist:\n",
    "        if nextdirection == \"<\":\n",
    "            robotsantaposition[0] = robotsantaposition[0] - 1\n",
    "        elif nextdirection == \">\":\n",
    "            robotsantaposition[0] = robotsantaposition[0] + 1\n",
    "        elif nextdirection == \"^\":\n",
    "            robotsantaposition[1] = robotsantaposition[1] - 1\n",
    "        elif nextdirection == \"v\":\n",
    "            robotsantaposition[1] = robotsantaposition[1] + 1\n",
    "            \n",
    "        uniquelocations.add(tuple(robotsantaposition))\n",
    "        \n",
    "    return len(uniquelocations)\n",
    "    \n",
    "print('total unique houses with at least one present: ',housecounter3(str_presents))"
   ]
  },
  {
   "cell_type": "markdown",
   "metadata": {},
   "source": [
    "**Level 4**"
   ]
  },
  {
   "cell_type": "markdown",
   "metadata": {},
   "source": [
    "Find md5 hash\n",
    "\n",
    "yzbqklnj\n",
    "\n",
    "find MD5 hashes which, in hexadecimal, start with at least five zeroes\n",
    "Key+decimalcounter => MD5 hash => check first five numbers of hash => if five zeroes, then decimalcounter=answer"
   ]
  },
  {
   "cell_type": "code",
   "execution_count": 12,
   "metadata": {
    "scrolled": true
   },
   "outputs": [
    {
     "name": "stdout",
     "output_type": "stream",
     "text": [
      "Key = yzbqklnj\n",
      "The counter for yzbqklnj is 282749\n"
     ]
    }
   ],
   "source": [
    "str_key =\"yzbqklnj\"\n",
    "print(\"Key =\",str_key)\n",
    "\n",
    "import hashlib\n",
    "\n",
    "def hasher(str_keyinput):\n",
    "    int_counter = 0\n",
    "    str_hash = str_key+str(int_counter)\n",
    "    result = hashlib.md5(str_hash.encode()).hexdigest()\n",
    "    \n",
    "    while result[0:5] != \"00000\":\n",
    "        int_counter += 1\n",
    "        str_hash = str_key+str(int_counter)\n",
    "        result = hashlib.md5(str_hash.encode()).hexdigest()\n",
    "        \n",
    "    return int_counter\n",
    "\n",
    "print(\"The counter for\",str_key,\"is\",hasher(str_key))"
   ]
  },
  {
   "cell_type": "markdown",
   "metadata": {},
   "source": [
    "Now find hash that starts with 6 zeroes"
   ]
  },
  {
   "cell_type": "code",
   "execution_count": 13,
   "metadata": {},
   "outputs": [
    {
     "name": "stdout",
     "output_type": "stream",
     "text": [
      "Key = yzbqklnj\n",
      "The counter for yzbqklnj is 9962624\n"
     ]
    }
   ],
   "source": [
    "str_key =\"yzbqklnj\"\n",
    "print(\"Key =\",str_key)\n",
    "\n",
    "import hashlib\n",
    "\n",
    "def hasher6(str_keyinput):\n",
    "    int_counter = 0\n",
    "    str_hash = str_key+str(int_counter)\n",
    "    result = hashlib.md5(str_hash.encode()).hexdigest()\n",
    "    \n",
    "    while result[0:6] != \"000000\":\n",
    "        int_counter += 1\n",
    "        str_hash = str_key+str(int_counter)\n",
    "        result = hashlib.md5(str_hash.encode()).hexdigest()\n",
    "        \n",
    "    return int_counter\n",
    "\n",
    "print(\"The counter for\",str_key,\"is\",hasher6(str_key))"
   ]
  },
  {
   "cell_type": "markdown",
   "metadata": {},
   "source": [
    "**Level 5**"
   ]
  },
  {
   "cell_type": "markdown",
   "metadata": {},
   "source": [
    "Santa needs help figuring out which strings in his text file are naughty or nice. A nice string is one with all of the following properties:  \n",
    "- It contains at least three vowels (aeiou only), like aei, xazegov, or aeiouaeiouaeiou.  \n",
    "- It contains at least one letter that appears twice in a row, like xx, abcdde (dd), or aabbccdd (aa, bb, cc, or dd).  \n",
    "- It does not contain the strings ab, cd, pq, or xy, even if they are part of one of the other requirements.  \n",
    "\n",
    "How many strings are nice?"
   ]
  },
  {
   "cell_type": "code",
   "execution_count": 14,
   "metadata": {},
   "outputs": [
    {
     "name": "stdout",
     "output_type": "stream",
     "text": [
      "['rthkunfaakmwmush', 'qxlnvjguikqcyfzt', 'sleaoasjspnjctqt', 'lactpmehuhmzwfjl', 'bvggvrdgjcspkkyj']\n"
     ]
    }
   ],
   "source": [
    "#read naughtynice strings file into variable\n",
    "f = open('naughtynicestrings.txt', 'r')\n",
    "str_naughtynice = []\n",
    "str_naughtynice = f.readlines()\n",
    "str_naughtynice = [line.rstrip(\"\\n\") for line in str_naughtynice]\n",
    "f.close()\n",
    "print(str_naughtynice[0:5])"
   ]
  },
  {
   "cell_type": "code",
   "execution_count": 15,
   "metadata": {},
   "outputs": [
    {
     "name": "stdout",
     "output_type": "stream",
     "text": [
      "1000\n"
     ]
    }
   ],
   "source": [
    "print(len(str_naughtynice))"
   ]
  },
  {
   "cell_type": "code",
   "execution_count": 16,
   "metadata": {},
   "outputs": [
    {
     "name": "stdout",
     "output_type": "stream",
     "text": [
      "Acceptable strings are 258\n"
     ]
    }
   ],
   "source": [
    "def naughtyniceassessor(str_naughtynicelist):\n",
    "    \n",
    "    str_acceptedlist = []\n",
    "    \n",
    "    for item in str_naughtynicelist:\n",
    "        \n",
    "        #add only strings items without notpermitted strings\n",
    "        if not any(notpermitted in item for notpermitted in ['ab','cd','pq','xy']): \n",
    "            \n",
    "            #add only strings that do contain 3 vowels\n",
    "            int_vowelcount = 0\n",
    "            for str_vowel in 'aeiou':\n",
    "                int_vowelcount = int_vowelcount + item.lower().count(str_vowel)\n",
    "            if int_vowelcount >= 3:\n",
    "                \n",
    "                #add only strings that do have double letters\n",
    "                if any(item[i] == item[i-1] for i in range(1,len(item))):\n",
    "                    str_acceptedlist.append(item)\n",
    "        \n",
    "    int_acceptablecount = len(str_acceptedlist)\n",
    "    return int_acceptablecount\n",
    "\n",
    "print(\"Acceptable strings are\",naughtyniceassessor(str_naughtynice))"
   ]
  },
  {
   "cell_type": "markdown",
   "metadata": {},
   "source": [
    "Realizing the error of his ways, Santa has switched to a better model of determining whether a string is naughty or nice. None of the old rules apply, as they are all clearly ridiculous.\n",
    "\n",
    "Now, a nice string is one with all of the following properties:\n",
    "\n",
    "- It contains a pair of any two letters that appears at least twice in the string without overlapping, like xyxy (xy) or aabcdefgaa (aa), but not like aaa (aa, but it overlaps).\n",
    "- It contains at least one letter which repeats with exactly one letter between them, like xyx, abcdefeghi (efe), or even aaa.\n",
    "\n",
    "How many strings are nice under these new rules?"
   ]
  },
  {
   "cell_type": "code",
   "execution_count": 17,
   "metadata": {},
   "outputs": [
    {
     "name": "stdout",
     "output_type": "stream",
     "text": [
      "Acceptable strings are 53\n"
     ]
    }
   ],
   "source": [
    "def naughtyniceassessor2(str_naughtynicelist):\n",
    "    \n",
    "    str_acceptedlist = []\n",
    "    \n",
    "    for item in str_naughtynicelist:\n",
    "        \n",
    "        #add only strings that have repeated letter with one letter between\n",
    "        if any(item[i] == item[i-2] for i in range(2,len(item))):\n",
    "        \n",
    "            #add only strings with repeated non-overlapping pairs\n",
    "            if any(item[i]+item[i+1] in item[i+2:] for i in range(0,len(item)-2) ):\n",
    "            \n",
    "                str_acceptedlist.append(item)\n",
    "\n",
    "    int_acceptablecount = len(str_acceptedlist)\n",
    "    return int_acceptablecount\n",
    "\n",
    "print(\"Acceptable strings are\",naughtyniceassessor2(str_naughtynice))"
   ]
  },
  {
   "cell_type": "markdown",
   "metadata": {},
   "source": [
    "**Level 6**"
   ]
  },
  {
   "cell_type": "markdown",
   "metadata": {},
   "source": [
    "--- Day 6: Probably a Fire Hazard ---\n",
    "Because your neighbors keep defeating you in the holiday house decorating contest year after year, you've decided to deploy one million lights in a 1000x1000 grid.\n",
    "\n",
    "Furthermore, because you've been especially nice this year, Santa has mailed you instructions on how to display the ideal lighting configuration.\n",
    "\n",
    "Lights in your grid are numbered from 0 to 999 in each direction; the lights at each corner are at 0,0, 0,999, 999,999, and 999,0. The instructions include whether to turn on, turn off, or toggle various inclusive ranges given as coordinate pairs. Each coordinate pair represents opposite corners of a rectangle, inclusive; a coordinate pair like 0,0 through 2,2 therefore refers to 9 lights in a 3x3 square. The lights all start turned off.\n",
    "\n",
    "To defeat your neighbors this year, all you have to do is set up your lights by doing the instructions Santa sent you in order.\n",
    "\n",
    "For example:\n",
    "\n",
    "turn on 0,0 through 999,999 would turn on (or leave on) every light.\n",
    "toggle 0,0 through 999,0 would toggle the first line of 1000 lights, turning off the ones that were on, and turning on the ones that were off.\n",
    "turn off 499,499 through 500,500 would turn off (or leave off) the middle four lights.\n",
    "After following the instructions, how many lights are lit?"
   ]
  },
  {
   "cell_type": "code",
   "execution_count": 18,
   "metadata": {},
   "outputs": [
    {
     "data": {
      "text/plain": [
       "569999"
      ]
     },
     "execution_count": 18,
     "metadata": {},
     "output_type": "execute_result"
    }
   ],
   "source": [
    "# import instructions\n",
    "f = open('lights.txt', 'r')\n",
    "lights = f.read().splitlines()\n",
    "f.close()\n",
    "\n",
    "# restructure data\n",
    "\n",
    "lights = [instruction.split() for instruction in lights]\n",
    "\n",
    "for instruction in lights:\n",
    "    instruction.remove('through')\n",
    "    if instruction[0] == \"turn\":\n",
    "        instruction[:] = [\" \".join(instruction[0:2])]+instruction[2:]\n",
    "    for i in range(1,3):\n",
    "        instruction[i] = instruction[i].split(\",\")\n",
    "        instruction[i] = [int(x) for x in instruction[i]]\n",
    "\n",
    "lights2 = [['turn on',[0,0],[4,10]],['toggle',[0,0],[5,5]],['turn off',[0,0],[5,5]]]\n",
    "\n",
    "import numpy as np\n",
    "n=1000\n",
    "display = np.zeros((n,n), dtype=int)\n",
    "\n",
    "for instruction in lights:\n",
    "    i1,j1 = instruction[1]\n",
    "    i2,j2 = instruction[2]\n",
    "    for i in range(i1,i2+1):\n",
    "        for j in range(j1,j2+1):\n",
    "            if instruction[0] == 'turn on':\n",
    "                display[i,j] = 1\n",
    "            elif instruction[0] == \"turn off\":\n",
    "                display[i,j] = 0\n",
    "            elif instruction[0] == \"toggle\":\n",
    "                if display[i,j] == 0:\n",
    "                    display[i,j] = 1\n",
    "                elif display[i,j] == 1:\n",
    "                    display[i,j] = 0\n",
    "\n",
    "\n",
    "np.sum(display)"
   ]
  },
  {
   "cell_type": "markdown",
   "metadata": {},
   "source": [
    "--- Part Two ---\n",
    "You just finish implementing your winning light pattern when you realize you mistranslated Santa's message from Ancient Nordic Elvish.\n",
    "\n",
    "The light grid you bought actually has individual brightness controls; each light can have a brightness of zero or more. The lights all start at zero.\n",
    "\n",
    "The phrase turn on actually means that you should increase the brightness of those lights by 1.\n",
    "\n",
    "The phrase turn off actually means that you should decrease the brightness of those lights by 1, to a minimum of zero.\n",
    "\n",
    "The phrase toggle actually means that you should increase the brightness of those lights by 2.\n",
    "\n",
    "What is the total brightness of all lights combined after following Santa's instructions?\n",
    "\n",
    "For example:\n",
    "\n",
    "turn on 0,0 through 0,0 would increase the total brightness by 1.\n",
    "toggle 0,0 through 999,999 would increase the total brightness by 2000000."
   ]
  },
  {
   "cell_type": "code",
   "execution_count": 19,
   "metadata": {},
   "outputs": [
    {
     "data": {
      "text/plain": [
       "17836115"
      ]
     },
     "execution_count": 19,
     "metadata": {},
     "output_type": "execute_result"
    }
   ],
   "source": [
    "# import instructions\n",
    "f = open('lights.txt', 'r')\n",
    "lights = f.read().splitlines()\n",
    "f.close()\n",
    "\n",
    "# restructure data\n",
    "\n",
    "lights = [instruction.split() for instruction in lights]\n",
    "\n",
    "for instruction in lights:\n",
    "    instruction.remove('through')\n",
    "    if instruction[0] == \"turn\":\n",
    "        instruction[:] = [\" \".join(instruction[0:2])]+instruction[2:]\n",
    "    for i in range(1,3):\n",
    "        instruction[i] = instruction[i].split(\",\")\n",
    "        instruction[i] = [int(x) for x in instruction[i]]\n",
    "\n",
    "    \n",
    "lights2 = [['turn on',[0,0],[4,10]],['toggle',[0,0],[5,5]],['turn off',[0,0],[5,5]]]\n",
    "\n",
    "import numpy as np\n",
    "n=1000\n",
    "display = np.zeros((n,n), dtype=int)\n",
    "\n",
    "for instruction in lights:\n",
    "    i1,j1 = instruction[1]\n",
    "    i2,j2 = instruction[2]\n",
    "    for i in range(i1,i2+1):\n",
    "        for j in range(j1,j2+1):\n",
    "            if instruction[0] == 'turn on':\n",
    "                display[i,j] += 1\n",
    "            elif instruction[0] == \"turn off\":\n",
    "                if display[i,j] == 0:\n",
    "                    display[i,j] = 0\n",
    "                else:\n",
    "                    display[i,j] -= 1\n",
    "            elif instruction[0] == \"toggle\":\n",
    "                display[i,j] += 2\n",
    "\n",
    "\n",
    "np.sum(display)"
   ]
  },
  {
   "cell_type": "markdown",
   "metadata": {},
   "source": [
    "**Level 7**\n",
    "--- Day 7: Some Assembly Required ---\n",
    "This year, Santa brought little Bobby Tables a set of wires and bitwise logic gates! Unfortunately, little Bobby is a little under the recommended age range, and he needs help assembling the circuit.\n",
    "\n",
    "Each wire has an identifier (some lowercase letters) and can carry a 16-bit signal (a number from 0 to 65535). A signal is provided to each wire by a gate, another wire, or some specific value. Each wire can only get a signal from one source, but can provide its signal to multiple destinations. A gate provides no signal until all of its inputs have a signal.\n",
    "\n",
    "The included instructions booklet describes how to connect the parts together: x AND y -> z means to connect wires x and y to an AND gate, and then connect its output to wire z.\n",
    "\n",
    "For example:\n",
    "\n",
    "123 -> x means that the signal 123 is provided to wire x.\n",
    "x AND y -> z means that the bitwise AND of wire x and wire y is provided to wire z.\n",
    "p LSHIFT 2 -> q means that the value from wire p is left-shifted by 2 and then provided to wire q.\n",
    "NOT e -> f means that the bitwise complement of the value from wire e is provided to wire f.\n",
    "Other possible gates include OR (bitwise OR) and RSHIFT (right-shift). If, for some reason, you'd like to emulate the circuit instead, almost all programming languages (for example, C, JavaScript, or Python) provide operators for these gates.\n",
    "\n",
    "For example, here is a simple circuit:\n",
    "\n",
    "123 -> x\n",
    "456 -> y\n",
    "x AND y -> d\n",
    "x OR y -> e\n",
    "x LSHIFT 2 -> f\n",
    "y RSHIFT 2 -> g\n",
    "NOT x -> h\n",
    "NOT y -> i\n",
    "After it is run, these are the signals on the wires:\n",
    "\n",
    "d: 72\n",
    "e: 507\n",
    "f: 492\n",
    "g: 114\n",
    "h: 65412\n",
    "i: 65079\n",
    "x: 123\n",
    "y: 456\n",
    "In little Bobby's kit's instructions booklet (provided as your puzzle input), what signal is ultimately provided to wire a?"
   ]
  },
  {
   "cell_type": "markdown",
   "metadata": {},
   "source": [
    "--- Part Two ---\n",
    "Now, take the signal you got on wire a, override wire b to that signal, and reset the other wires (including wire a). What new signal is ultimately provided to wire a?"
   ]
  },
  {
   "cell_type": "code",
   "execution_count": 20,
   "metadata": {},
   "outputs": [
    {
     "name": "stdout",
     "output_type": "stream",
     "text": [
      "first a result =  956\n",
      "second a result=  40149\n"
     ]
    }
   ],
   "source": [
    "# import instructions\n",
    "f = open('circuit.txt', 'r')\n",
    "circuit = f.read().splitlines()\n",
    "f.close()\n",
    "\n",
    "operations = dict()\n",
    "for instruction in circuit:\n",
    "    (operation,result) = instruction.split('->')\n",
    "    operations[result.strip()] = operation.strip().split(' ')\n",
    "\n",
    "wires = dict()\n",
    "\n",
    "def calculate(wire):\n",
    "    try:\n",
    "        return int(wire)\n",
    "    except (ValueError, TypeError):\n",
    "        pass\n",
    "\n",
    "    \n",
    "    if wire not in wires:\n",
    "        operation = operations[wire]\n",
    "        if len(operation) == 1:\n",
    "            result = calculate(operation[0])\n",
    "        else:\n",
    "            test = operation[-2]\n",
    "            if test == \"AND\":\n",
    "                result = calculate(operation[0]) & calculate(operation[2])\n",
    "            elif test == \"OR\":\n",
    "                result = calculate(operation[0]) | calculate(operation[2])\n",
    "            elif test == \"LSHIFT\":\n",
    "                result = calculate(operation[0]) << calculate(operation[2])\n",
    "            elif test == \"RSHIFT\":\n",
    "                result = calculate(operation[0]) >> calculate(operation[2])\n",
    "            elif test == \"NOT\":\n",
    "                result = ~calculate(operation[1])\n",
    "        wires[wire] = result\n",
    "            \n",
    "    return wires[wire]\n",
    "\n",
    "first_result = calculate('a')\n",
    "print('first a result = ',first_result)\n",
    "\n",
    "wires = dict()\n",
    "wires['b'] = first_result\n",
    "second_result = calculate('a')\n",
    "print('second a result= ',second_result)"
   ]
  },
  {
   "cell_type": "markdown",
   "metadata": {},
   "source": [
    "**level 8**\n",
    "\n",
    "--- Day 8: Matchsticks ---\n",
    "Space on the sleigh is limited this year, and so Santa will be bringing his list as a digital copy. He needs to know how much space it will take up when stored.\n",
    "\n",
    "It is common in many programming languages to provide a way to escape special characters in strings. For example, C, JavaScript, Perl, Python, and even PHP handle special characters in very similar ways.\n",
    "\n",
    "However, it is important to realize the difference between the number of characters in the code representation of the string literal and the number of characters in the in-memory string itself.\n",
    "\n",
    "For example:\n",
    "\n",
    "\"\" is 2 characters of code (the two double quotes), but the string contains zero characters.\n",
    "\"abc\" is 5 characters of code, but 3 characters in the string data.\n",
    "\"aaa\\\"aaa\" is 10 characters of code, but the string itself contains six \"a\" characters and a single, escaped quote character, for a total of 7 characters in the string data.\n",
    "\"\\x27\" is 6 characters of code, but the string itself contains just one - an apostrophe ('), escaped using hexadecimal notation.\n",
    "Santa's list is a file that contains many double-quoted string literals, one on each line. The only escape sequences used are \\\\ (which represents a single backslash), \\\" (which represents a lone double-quote character), and \\x plus two hexadecimal characters (which represents a single character with that ASCII code).\n",
    "\n",
    "Disregarding the whitespace in the file, what is the number of characters of code for string literals minus the number of characters in memory for the values of the strings in total for the entire file?\n",
    "\n",
    "For example, given the four strings above, the total number of characters of string code (2 + 5 + 10 + 6 = 23) minus the total number of characters in memory for string values (0 + 3 + 7 + 1 = 11) is 23 - 11 = 12."
   ]
  },
  {
   "cell_type": "code",
   "execution_count": 21,
   "metadata": {},
   "outputs": [
    {
     "name": "stdout",
     "output_type": "stream",
     "text": [
      "1371\n"
     ]
    }
   ],
   "source": [
    "# import instructions\n",
    "f = open('santalist.txt', 'r')\n",
    "santalist = f.read().splitlines()\n",
    "f.close()\n",
    "\n",
    "\n",
    "totalcharsum = 0\n",
    "evalsum = 0\n",
    "for item in santalist:\n",
    "    line = item.strip()\n",
    "    totalcharsum += len(line)\n",
    "    evalsum += len(eval(line))\n",
    "    \n",
    "print(totalcharsum - evalsum)\n"
   ]
  },
  {
   "cell_type": "markdown",
   "metadata": {},
   "source": [
    "--- Part Two ---\n",
    "Now, let's go the other way. In addition to finding the number of characters of code, you should now encode each code representation as a new string and find the number of characters of the new encoded representation, including the surrounding double quotes.\n",
    "\n",
    "For example:\n",
    "\n",
    "\"\" encodes to \"\\\"\\\"\", an increase from 2 characters to 6.\n",
    "\"abc\" encodes to \"\\\"abc\\\"\", an increase from 5 characters to 9.\n",
    "\"aaa\\\"aaa\" encodes to \"\\\"aaa\\\\\\\"aaa\\\"\", an increase from 10 characters to 16.\n",
    "\"\\x27\" encodes to \"\\\"\\\\x27\\\"\", an increase from 6 characters to 11.\n",
    "Your task is to find the total number of characters to represent the newly encoded strings minus the number of characters of code in each original string literal. For example, for the strings above, the total encoded length (6 + 9 + 16 + 11 = 42) minus the characters in the original code representation (23, just like in the first part of this puzzle) is 42 - 23 = 19.\n"
   ]
  },
  {
   "cell_type": "code",
   "execution_count": 22,
   "metadata": {},
   "outputs": [
    {
     "name": "stdout",
     "output_type": "stream",
     "text": [
      "2117\n"
     ]
    }
   ],
   "source": [
    "# import instructions\n",
    "f = open('santalist.txt', 'r')\n",
    "santalist = f.read().splitlines()\n",
    "f.close()\n",
    "\n",
    "totalcharsum = 0\n",
    "escapedsum = 0\n",
    "for item in santalist:\n",
    "    line = item.strip()\n",
    "    totalcharsum += len(line)\n",
    "    \n",
    "    escapedsum += 2   # for \"\" on either end\n",
    "    for character in line:\n",
    "        if character in ['\"','\\\\']:\n",
    "            escapedsum += 2    # for \" and \\\n",
    "        else:\n",
    "            escapedsum += 1\n",
    "\n",
    "print(escapedsum - totalcharsum)"
   ]
  },
  {
   "cell_type": "markdown",
   "metadata": {},
   "source": [
    "**level 9**\n",
    "\n",
    "--- Day 9: All in a Single Night ---\n",
    "Every year, Santa manages to deliver all of his presents in a single night.\n",
    "\n",
    "This year, however, he has some new locations to visit; his elves have provided him the distances between every pair of locations. He can start and end at any two (different) locations he wants, but he must visit each location exactly once. What is the shortest distance he can travel to achieve this?\n",
    "\n",
    "For example, given the following distances:\n",
    "\n",
    "London to Dublin = 464\n",
    "London to Belfast = 518\n",
    "Dublin to Belfast = 141\n",
    "The possible routes are therefore:\n",
    "\n",
    "Dublin -> London -> Belfast = 982\n",
    "London -> Dublin -> Belfast = 605\n",
    "London -> Belfast -> Dublin = 659\n",
    "Dublin -> Belfast -> London = 659\n",
    "Belfast -> Dublin -> London = 605\n",
    "Belfast -> London -> Dublin = 982\n",
    "The shortest of these is London -> Dublin -> Belfast = 605, and so the answer is 605 in this example.\n",
    "\n",
    "What is the distance of the shortest route?\n",
    "\n",
    "\n",
    "--- Part Two ---\n",
    "The next year, just to show off, Santa decides to take the route with the longest distance instead.\n",
    "\n",
    "He can still start and end at any two (different) locations he wants, and he still must visit each location exactly once.\n",
    "\n",
    "For example, given the distances above, the longest route would be 982 via (for example) Dublin -> London -> Belfast.\n",
    "\n",
    "What is the distance of the longest route?"
   ]
  },
  {
   "cell_type": "code",
   "execution_count": 23,
   "metadata": {},
   "outputs": [
    {
     "name": "stdout",
     "output_type": "stream",
     "text": [
      "117\n",
      "[('Straylight', 'Arbre', 'Tristram', 'Norrath', 'Snowdin', 'Tambi', 'AlphaCentauri', 'Faerun'), ('Faerun', 'AlphaCentauri', 'Tambi', 'Snowdin', 'Norrath', 'Tristram', 'Arbre', 'Straylight')]\n",
      "909\n",
      "[('Snowdin', 'Tristram', 'Straylight', 'AlphaCentauri', 'Norrath', 'Faerun', 'Arbre', 'Tambi'), ('Tambi', 'Arbre', 'Faerun', 'Norrath', 'AlphaCentauri', 'Straylight', 'Tristram', 'Snowdin')]\n"
     ]
    }
   ],
   "source": [
    "# import instructions\n",
    "f = open('routes.txt', 'r')\n",
    "routes = f.read().splitlines()\n",
    "f.close()\n",
    "\n",
    "# create dictionary of routes\n",
    "routedict = dict()\n",
    "uniqueplaces = set()\n",
    "\n",
    "for route in routes:\n",
    "    sourcedest,distance = route.split('=')\n",
    "    source,destination = sourcedest.split(\"to\")\n",
    "    source = source.strip()\n",
    "    destination = destination.strip()\n",
    "    distance = int(distance.strip())\n",
    "    routedict[source+\"-\"+destination] = distance\n",
    "    routedict[destination+\"-\"+source] = distance  # ensure all permutations of source dest\n",
    "    uniqueplaces.add(source)\n",
    "    uniqueplaces.add(destination)\n",
    "\n",
    "import itertools\n",
    "\n",
    "#visit each location exactly once\n",
    "#uniqueroutes.add(itertools.permutations(uniqueplaces,len(uniqueplaces))\n",
    "allroutes = list(itertools.permutations(uniqueplaces,len(uniqueplaces)))\n",
    "\n",
    "# determine which routes are possible\n",
    "\n",
    "allroutedist = dict()\n",
    "for route in allroutes:\n",
    "    routelength = 0\n",
    "    for source in range(len(route)-1):\n",
    "        destination = source+1\n",
    "        routelength += routedict[route[source]+\"-\"+route[destination]]\n",
    "    allroutedist[route] = routelength\n",
    "\n",
    "mindist = min(allroutedist.values())\n",
    "print(mindist)\n",
    "print([key for key in allroutedist if allroutedist[key] == mindist])\n",
    "\n",
    "maxdist = max(allroutedist.values())\n",
    "print(maxdist)\n",
    "print([key for key in allroutedist if allroutedist[key] == maxdist])"
   ]
  },
  {
   "cell_type": "markdown",
   "metadata": {},
   "source": [
    "**level 10**\n",
    "\n",
    "--- Day 10: Elves Look, Elves Say ---\n",
    "Today, the Elves are playing a game called look-and-say. They take turns making sequences by reading aloud the previous sequence and using that reading as the next sequence. For example, 211 is read as \"one two, two ones\", which becomes 1221 (1 2, 2 1s).\n",
    "\n",
    "Look-and-say sequences are generated iteratively, using the previous value as input for the next step. For each step, take the previous value, and replace each run of digits (like 111) with the number of digits (3) followed by the digit itself (1).\n",
    "\n",
    "For example:\n",
    "\n",
    "1 becomes 11 (1 copy of digit 1).\n",
    "11 becomes 21 (2 copies of digit 1).\n",
    "21 becomes 1211 (one 2 followed by one 1).\n",
    "1211 becomes 111221 (one 1, one 2, and two 1s).\n",
    "111221 becomes 312211 (three 1s, two 2s, and one 1).\n",
    "Starting with the digits in your puzzle input, apply this process 40 times. What is the length of the result?\n",
    "\n",
    "Your puzzle input is 3113322113."
   ]
  },
  {
   "cell_type": "code",
   "execution_count": 24,
   "metadata": {},
   "outputs": [
    {
     "name": "stdout",
     "output_type": "stream",
     "text": [
      "329356\n",
      "4666278\n"
     ]
    }
   ],
   "source": [
    "startstring = '3113322113'\n",
    "\n",
    "def LookSay(startstring):\n",
    "    newstring=''\n",
    "    position = 0\n",
    "    while position < len(startstring):\n",
    "        count = 1\n",
    "        value = startstring[position]\n",
    "\n",
    "        for nextposition in range(position+1,len(startstring)):\n",
    "            if value == startstring[nextposition]:\n",
    "                count += 1\n",
    "            else:\n",
    "                break\n",
    "\n",
    "        # contcat string\n",
    "        newstring += str(count) + value\n",
    "        # if count is greater than 1, skip X positions\n",
    "        position += count\n",
    "    return newstring\n",
    "\n",
    "finalstring = startstring\n",
    "for count in range(40):\n",
    "    finalstring = LookSay(finalstring)\n",
    "\n",
    "print(len(finalstring))\n",
    "    \n",
    "finalstring = startstring\n",
    "for count in range(50):\n",
    "    finalstring = LookSay(finalstring)\n",
    "\n",
    "print(len(finalstring))\n",
    "\n"
   ]
  },
  {
   "cell_type": "markdown",
   "metadata": {},
   "source": [
    "**Level 11**\n",
    "\n",
    "--- Day 11: Corporate Policy ---\n",
    "Santa's previous password expired, and he needs help choosing a new one.\n",
    "\n",
    "To help him remember his new password after the old one expires, Santa has devised a method of coming up with a password based on the previous one. Corporate policy dictates that passwords must be exactly eight lowercase letters (for security reasons), so he finds his new password by incrementing his old password string repeatedly until it is valid.\n",
    "\n",
    "Incrementing is just like counting with numbers: xx, xy, xz, ya, yb, and so on. Increase the rightmost letter one step; if it was z, it wraps around to a, and repeat with the next letter to the left until one doesn't wrap around.\n",
    "\n",
    "Unfortunately for Santa, a new Security-Elf recently started, and he has imposed some additional password requirements:\n",
    "\n",
    "Passwords must include one increasing straight of at least three letters, like abc, bcd, cde, and so on, up to xyz. They cannot skip letters; abd doesn't count.\n",
    "Passwords may not contain the letters i, o, or l, as these letters can be mistaken for other characters and are therefore confusing.\n",
    "Passwords must contain at least two different, non-overlapping pairs of letters, like aa, bb, or zz.\n",
    "For example:\n",
    "\n",
    "hijklmmn meets the first requirement (because it contains the straight hij) but fails the second requirement requirement (because it contains i and l).\n",
    "abbceffg meets the third requirement (because it repeats bb and ff) but fails the first requirement.\n",
    "abbcegjk fails the third requirement, because it only has one double letter (bb).\n",
    "The next password after abcdefgh is abcdffaa.\n",
    "The next password after ghijklmn is ghjaabcc, because you eventually skip all the passwords that start with ghi..., since i is not allowed.\n",
    "Given Santa's current password (your puzzle input), what should his next password be?"
   ]
  },
  {
   "cell_type": "code",
   "execution_count": 107,
   "metadata": {},
   "outputs": [
    {
     "name": "stdout",
     "output_type": "stream",
     "text": [
      "hepxxyzz\n"
     ]
    }
   ],
   "source": [
    "\n",
    "choices = 'abcdefghijklmnopqrstuvwxyz'\n",
    "forbiddenchoices = 'iol'\n",
    "pairs = []\n",
    "for letter in choices:\n",
    "    pairs.append(letter+letter)\n",
    "\n",
    "def nextpass(oldpassword):\n",
    "    newpassword = ''\n",
    "    for character in range(len(oldpassword)-1,0-1,-1):\n",
    "        currentletter = choices.index(oldpassword[character])\n",
    "        \n",
    "        if currentletter + 1 < len(choices):\n",
    "            newletter = choices[currentletter+1]\n",
    "        else:\n",
    "            newletter = choices[0]\n",
    "        newpassword = newletter + newpassword\n",
    "        \n",
    "        if newletter == choices[0]:\n",
    "            # increase letter of prev letter and add\n",
    "            continue\n",
    "        else:\n",
    "            newpassword = oldpassword[:character] + newpassword\n",
    "            break\n",
    "    return newpassword\n",
    "    \n",
    "def passtest(password):\n",
    "    #one increasing straight of at least three letters\n",
    "    consecletters = False\n",
    "    for position in range(len(password)-2):\n",
    "        test = password[position] + password[position+1] + password[position+2]\n",
    "        if test in choices:\n",
    "            consecletters = True\n",
    "            break\n",
    "    if consecletters == False:\n",
    "        return \"No consec letters\"\n",
    "    \n",
    "    #may not contain the letters i, o, or l\n",
    "    for letter in password:\n",
    "        if letter in forbiddenchoices:\n",
    "            return \"Forbidden letters\"\n",
    "            \n",
    "    #must contain at least two different, non-overlapping pairs of letters, like aa, bb, or zz\n",
    "    uniquepairs = set()\n",
    "    for position in range(len(password)-1):\n",
    "        if password[position] + password[position+1] in pairs:\n",
    "            uniquepairs.add(password[position] + password[position+1])\n",
    "    if len(uniquepairs) < 2:\n",
    "        return \"Not enough pairs\"\n",
    "    \n",
    "    return True\n",
    "\n",
    "currentpassword = 'hepxcrrq'\n",
    "nextpassword = nextpass(currentpassword)\n",
    "while passtest(nextpassword) != True:\n",
    "    nextpassword = nextpass(nextpassword)\n",
    "\n",
    "print(nextpassword)"
   ]
  },
  {
   "cell_type": "markdown",
   "metadata": {},
   "source": [
    "Santa's password expired again. What's the next one?"
   ]
  },
  {
   "cell_type": "code",
   "execution_count": 108,
   "metadata": {},
   "outputs": [
    {
     "name": "stdout",
     "output_type": "stream",
     "text": [
      "heqaabcc\n"
     ]
    }
   ],
   "source": [
    "currentpassword = nextpassword\n",
    "nextpassword = nextpass(currentpassword)\n",
    "while passtest(nextpassword) != True:\n",
    "    nextpassword = nextpass(nextpassword)\n",
    "\n",
    "print(nextpassword)"
   ]
  },
  {
   "cell_type": "code",
   "execution_count": null,
   "metadata": {},
   "outputs": [],
   "source": []
  }
 ],
 "metadata": {
  "kernelspec": {
   "display_name": "Python 3",
   "language": "python",
   "name": "python3"
  },
  "language_info": {
   "codemirror_mode": {
    "name": "ipython",
    "version": 3
   },
   "file_extension": ".py",
   "mimetype": "text/x-python",
   "name": "python",
   "nbconvert_exporter": "python",
   "pygments_lexer": "ipython3",
   "version": "3.7.6"
  }
 },
 "nbformat": 4,
 "nbformat_minor": 4
}
