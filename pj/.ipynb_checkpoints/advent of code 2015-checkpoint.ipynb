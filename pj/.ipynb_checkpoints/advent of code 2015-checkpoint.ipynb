{
 "cells": [
  {
   "cell_type": "markdown",
   "metadata": {},
   "source": [
    "# Advent of code challenges 2015"
   ]
  },
  {
   "cell_type": "markdown",
   "metadata": {},
   "source": [
    "**Level 1**"
   ]
  },
  {
   "cell_type": "code",
   "execution_count": 12,
   "metadata": {},
   "outputs": [
    {
     "name": "stdout",
     "output_type": "stream",
     "text": [
      "(((())))(\n"
     ]
    }
   ],
   "source": [
    "#read floorsinstruction file into variable\n",
    "f = open('floorsinstruction.txt', 'r')\n",
    "str_floorsinstruction = f.read()\n",
    "f.close()\n",
    "print(str_floorsinstruction[0:9])"
   ]
  },
  {
   "cell_type": "markdown",
   "metadata": {},
   "source": [
    "Find out which floor you're on"
   ]
  },
  {
   "cell_type": "code",
   "execution_count": 13,
   "metadata": {},
   "outputs": [
    {
     "name": "stdout",
     "output_type": "stream",
     "text": [
      "232\n"
     ]
    }
   ],
   "source": [
    "# find our which floor you're on\n",
    "def countfloors(source):\n",
    "    int_floor = 0\n",
    "    for character in source:\n",
    "        if character == '(':\n",
    "            int_floor = int_floor + 1\n",
    "        elif character == ')':\n",
    "            int_floor = int_floor - 1\n",
    "    \n",
    "    print(int_floor)\n",
    "\n",
    "countfloors(str_floorsinstruction)\n"
   ]
  },
  {
   "cell_type": "markdown",
   "metadata": {},
   "source": [
    "Find out when you first enter basement"
   ]
  },
  {
   "cell_type": "code",
   "execution_count": 14,
   "metadata": {},
   "outputs": [
    {
     "name": "stdout",
     "output_type": "stream",
     "text": [
      "current floor is : -1\n",
      "floor instruction is:  1783\n"
     ]
    }
   ],
   "source": [
    "def firstbasement(source):\n",
    "    int_floor = 0\n",
    "    int_instructioncount = 0\n",
    "    for character in source:\n",
    "        int_instructioncount = int_instructioncount + 1\n",
    "        if character == '(':\n",
    "            int_floor = int_floor + 1\n",
    "        elif character == ')':\n",
    "            int_floor = int_floor - 1\n",
    "        if int_floor < 0:\n",
    "            break\n",
    "\n",
    "    print(\"current floor is :\",int_floor)\n",
    "    print(\"floor instruction is: \",int_instructioncount)\n",
    "    \n",
    "firstbasement(str_floorsinstruction)"
   ]
  },
  {
   "cell_type": "markdown",
   "metadata": {},
   "source": [
    "**Level 2**"
   ]
  },
  {
   "cell_type": "markdown",
   "metadata": {},
   "source": [
    "Puzzle input"
   ]
  },
  {
   "cell_type": "code",
   "execution_count": 15,
   "metadata": {},
   "outputs": [
    {
     "name": "stdout",
     "output_type": "stream",
     "text": [
      "20x3x11\n",
      "15x27x5\n",
      "6x29\n"
     ]
    }
   ],
   "source": [
    "#read floorsinstruction file into variable\n",
    "f = open('parcelsinstruction.txt', 'r')\n",
    "str_parcelsinstruction = f.read()\n",
    "f.close()\n",
    "print(str_parcelsinstruction[0:20])"
   ]
  },
  {
   "cell_type": "markdown",
   "metadata": {},
   "source": [
    "find amount of wrapping/ribbon required"
   ]
  },
  {
   "cell_type": "code",
   "execution_count": 16,
   "metadata": {},
   "outputs": [
    {
     "name": "stdout",
     "output_type": "stream",
     "text": [
      "['20x3x11\\n', '15x27x5\\n', '6x29x7\\n', '30x15x9\\n', '19x29x21\\n']\n",
      "['20x3x11', '15x27x5', '6x29x7', '30x15x9', '19x29x21']\n",
      "[[20, 3, 11], [15, 27, 5], [6, 29, 7], [30, 15, 9], [19, 29, 21]]\n"
     ]
    }
   ],
   "source": [
    "# open file and readlines into string\n",
    "lst_parcelsinstruction = []\n",
    "with open('parcelsinstruction.txt') as f:\n",
    "  lst_parcelsinstruction = f.readlines()\n",
    "print(lst_parcelsinstruction[0:5])\n",
    "\n",
    "#opening this way gets rid of whitespace newlines\n",
    "lst_parcelsinstruction = []\n",
    "lst_parcelsinstruction = [line.rstrip('\\n') for line in open('parcelsinstruction.txt')]\n",
    "print(lst_parcelsinstruction[0:5])\n",
    "\n",
    "#make string into structured list\n",
    "lst_organisedparcels = []\n",
    "lst_splitparcel = []\n",
    "lstint_splitparcel = []\n",
    "for parcel in lst_parcelsinstruction:\n",
    "    lst_splitparcel = parcel.split('x')\n",
    "    lstint_splitparcel = [int(dimension) for dimension in lst_splitparcel]\n",
    "    lst_organisedparcels.append(lstint_splitparcel)\n",
    "\n",
    "print(lst_organisedparcels[0:5])"
   ]
  },
  {
   "cell_type": "code",
   "execution_count": 17,
   "metadata": {},
   "outputs": [
    {
     "name": "stdout",
     "output_type": "stream",
     "text": [
      "total area required:  1706315\n"
     ]
    }
   ],
   "source": [
    "def wrappingcalculator(parcelslist):\n",
    "    parcelslist.sort() # sort list so all dimensions are smallest to largest\n",
    "    total_area = 0\n",
    "    for parcel in parcelslist:\n",
    "        l = parcel[0] # note this is smallest\n",
    "        w = parcel[1] # note this is second smallest\n",
    "        h = parcel[2]\n",
    "        area = 2*l*w + 2*w*h + 2*h*l\n",
    "        additional_area = l*w\n",
    "        total_area = total_area + area + additional_area\n",
    "    return total_area\n",
    "\n",
    "print('total area required: ',wrappingcalculator(lst_organisedparcels))"
   ]
  },
  {
   "cell_type": "code",
   "execution_count": 18,
   "metadata": {},
   "outputs": [
    {
     "name": "stdout",
     "output_type": "stream",
     "text": [
      "total ribbon required:  3858306\n"
     ]
    }
   ],
   "source": [
    "def ribboncalculator(parcelslist):\n",
    "    parcelslist.sort() # sort list so all dimensions are smallest to largest\n",
    "    total_ribbon = 0\n",
    "    for parcel in parcelslist:\n",
    "        l = parcel[0] # note this is smallest\n",
    "        w = parcel[1] # note this is second smallest\n",
    "        h = parcel[2]\n",
    "        ribbon = 2*l + 2*w\n",
    "        additional_ribbon = l*w*h\n",
    "        total_ribbon = total_ribbon + ribbon + additional_ribbon\n",
    "    return total_ribbon\n",
    "print('total ribbon required: ',ribboncalculator(lst_organisedparcels))"
   ]
  },
  {
   "cell_type": "markdown",
   "metadata": {},
   "source": [
    "**Level 3**"
   ]
  },
  {
   "cell_type": "code",
   "execution_count": 19,
   "metadata": {},
   "outputs": [
    {
     "name": "stdout",
     "output_type": "stream",
     "text": [
      "^^<<v\n"
     ]
    }
   ],
   "source": [
    "#read presents file into variable\n",
    "f = open('presents.txt', 'r')\n",
    "str_presents = f.read()\n",
    "f.close()\n",
    "print(str_presents[0:5])"
   ]
  },
  {
   "cell_type": "code",
   "execution_count": 20,
   "metadata": {},
   "outputs": [
    {
     "name": "stdout",
     "output_type": "stream",
     "text": [
      "total unique houses with at least one present:  2565\n"
     ]
    }
   ],
   "source": [
    "# number houses receiving at least one present\n",
    "import numpy as np\n",
    "\n",
    "def housecounter(presentlist):\n",
    "    presentcounter = 1  # first present delivered to the starting house\n",
    "    gridsize = 1000\n",
    "    grid = np.zeros((gridsize,gridsize),dtype=np.int)\n",
    "    position = [int(gridsize/2),int(gridsize/2)]  # x,y position as list makes it an int even if not evenly divisible\n",
    "    grid[position[0],position[1]] = 1\n",
    "    for nextdirection in presentlist:\n",
    "        presentcounter = presentcounter + 1\n",
    "        if nextdirection == \"<\":\n",
    "            position[0] = position[0] - 1\n",
    "        elif nextdirection == \">\":\n",
    "            position[0] = position[0] + 1\n",
    "        elif nextdirection == \"^\":\n",
    "            position[1] = position[1] - 1\n",
    "        elif nextdirection == \"v\":\n",
    "            position[1] = position[1] + 1\n",
    "        \n",
    "        grid[position[0],position[1]] = grid[position[0],position[1]] + 1\n",
    "    \n",
    "    uniquehouses = 0\n",
    "    for house in np.nditer(grid):\n",
    "        if house > 0:\n",
    "            uniquehouses = uniquehouses + 1\n",
    "    \n",
    "    return uniquehouses\n",
    "\n",
    "print('total unique houses with at least one present: ',housecounter(str_presents))"
   ]
  },
  {
   "cell_type": "code",
   "execution_count": 21,
   "metadata": {},
   "outputs": [
    {
     "name": "stdout",
     "output_type": "stream",
     "text": [
      "total unique houses with at least one present:  2565\n"
     ]
    }
   ],
   "source": [
    "# matt's way of doing is better here as it is not dependent on a grid\n",
    "def housecounter2(presentlist):\n",
    "    position = [0,0]\n",
    "    uniquelocations = set()\n",
    "    uniquelocations.add(tuple(position)) # add tuple to set, needs to be tuple because lists are not hashable\n",
    "    \n",
    "    for nextdirection in presentlist:\n",
    "        if nextdirection == \"<\":\n",
    "            position[0] = position[0] - 1\n",
    "        elif nextdirection == \">\":\n",
    "            position[0] = position[0] + 1\n",
    "        elif nextdirection == \"^\":\n",
    "            position[1] = position[1] - 1\n",
    "        elif nextdirection == \"v\":\n",
    "            position[1] = position[1] + 1\n",
    "        \n",
    "        uniquelocations.add(tuple(position))\n",
    "        \n",
    "    return len(uniquelocations)\n",
    "    \n",
    "print('total unique houses with at least one present: ',housecounter2(str_presents))"
   ]
  },
  {
   "cell_type": "code",
   "execution_count": 22,
   "metadata": {},
   "outputs": [
    {
     "name": "stdout",
     "output_type": "stream",
     "text": [
      "total unique houses with at least one present:  2639\n"
     ]
    }
   ],
   "source": [
    "# Robot santa + santa, i.e. every other instruction is delivering a present\n",
    "def housecounter3(presentlist):\n",
    "    santaposition = [0,0]\n",
    "    robotsantaposition = [0,0]\n",
    "    uniquelocations = set() # sets are unique so adding to set keeps track of houses\n",
    "    uniquelocations.add(tuple(santaposition)) # add first position of santa to locations\n",
    "    \n",
    "    #slice list into odds (robot santa 1,3,5) and evens (santa 0,2,4)\n",
    "    santalist = presentlist[0::2]\n",
    "    robotsantalist = presentlist[1::2]\n",
    "\n",
    "    #iterate for santa\n",
    "    for nextdirection in santalist:\n",
    "        if nextdirection == \"<\":\n",
    "            santaposition[0] = santaposition[0] - 1\n",
    "        elif nextdirection == \">\":\n",
    "            santaposition[0] = santaposition[0] + 1\n",
    "        elif nextdirection == \"^\":\n",
    "            santaposition[1] = santaposition[1] - 1\n",
    "        elif nextdirection == \"v\":\n",
    "            santaposition[1] = santaposition[1] + 1\n",
    "        \n",
    "        uniquelocations.add(tuple(santaposition))\n",
    "        \n",
    "    #iterate for robot santa\n",
    "    for nextdirection in robotsantalist:\n",
    "        if nextdirection == \"<\":\n",
    "            robotsantaposition[0] = robotsantaposition[0] - 1\n",
    "        elif nextdirection == \">\":\n",
    "            robotsantaposition[0] = robotsantaposition[0] + 1\n",
    "        elif nextdirection == \"^\":\n",
    "            robotsantaposition[1] = robotsantaposition[1] - 1\n",
    "        elif nextdirection == \"v\":\n",
    "            robotsantaposition[1] = robotsantaposition[1] + 1\n",
    "            \n",
    "        uniquelocations.add(tuple(robotsantaposition))\n",
    "        \n",
    "    return len(uniquelocations)\n",
    "    \n",
    "print('total unique houses with at least one present: ',housecounter3(str_presents))"
   ]
  },
  {
   "cell_type": "markdown",
   "metadata": {},
   "source": [
    "**Level 4**"
   ]
  },
  {
   "cell_type": "markdown",
   "metadata": {},
   "source": [
    "Find md5 hash\n",
    "\n",
    "yzbqklnj\n",
    "\n",
    "find MD5 hashes which, in hexadecimal, start with at least five zeroes\n",
    "Key+decimalcounter => MD5 hash => check first five numbers of hash => if five zeroes, then decimalcounter=answer"
   ]
  },
  {
   "cell_type": "code",
   "execution_count": 56,
   "metadata": {
    "scrolled": true
   },
   "outputs": [
    {
     "name": "stdout",
     "output_type": "stream",
     "text": [
      "Key = yzbqklnj\n",
      "The counter for yzbqklnj is 282749\n"
     ]
    }
   ],
   "source": [
    "str_key =\"yzbqklnj\"\n",
    "print(\"Key =\",str_key)\n",
    "\n",
    "import hashlib\n",
    "\n",
    "def hasher(str_keyinput):\n",
    "    int_counter = 0\n",
    "    str_hash = str_key+str(int_counter)\n",
    "    result = hashlib.md5(str_hash.encode()).hexdigest()\n",
    "    \n",
    "    while result[0:5] != \"00000\":\n",
    "        int_counter += 1\n",
    "        str_hash = str_key+str(int_counter)\n",
    "        result = hashlib.md5(str_hash.encode()).hexdigest()\n",
    "        \n",
    "    return int_counter\n",
    "\n",
    "print(\"The counter for\",str_key,\"is\",hasher(str_key))"
   ]
  },
  {
   "cell_type": "markdown",
   "metadata": {},
   "source": [
    "Now find hash that starts with 6 zeroes"
   ]
  },
  {
   "cell_type": "code",
   "execution_count": 58,
   "metadata": {},
   "outputs": [
    {
     "name": "stdout",
     "output_type": "stream",
     "text": [
      "Key = yzbqklnj\n",
      "The counter for yzbqklnj is 9962624\n"
     ]
    }
   ],
   "source": [
    "str_key =\"yzbqklnj\"\n",
    "print(\"Key =\",str_key)\n",
    "\n",
    "import hashlib\n",
    "\n",
    "def hasher6(str_keyinput):\n",
    "    int_counter = 0\n",
    "    str_hash = str_key+str(int_counter)\n",
    "    result = hashlib.md5(str_hash.encode()).hexdigest()\n",
    "    \n",
    "    while result[0:6] != \"000000\":\n",
    "        int_counter += 1\n",
    "        str_hash = str_key+str(int_counter)\n",
    "        result = hashlib.md5(str_hash.encode()).hexdigest()\n",
    "        \n",
    "    return int_counter\n",
    "\n",
    "print(\"The counter for\",str_key,\"is\",hasher6(str_key))"
   ]
  },
  {
   "cell_type": "markdown",
   "metadata": {},
   "source": [
    "**Level 5**"
   ]
  },
  {
   "cell_type": "markdown",
   "metadata": {},
   "source": [
    "Santa needs help figuring out which strings in his text file are naughty or nice. A nice string is one with all of the following properties:  \n",
    "- It contains at least three vowels (aeiou only), like aei, xazegov, or aeiouaeiouaeiou.  \n",
    "- It contains at least one letter that appears twice in a row, like xx, abcdde (dd), or aabbccdd (aa, bb, cc, or dd).  \n",
    "- It does not contain the strings ab, cd, pq, or xy, even if they are part of one of the other requirements.  \n",
    "\n",
    "How many strings are nice?"
   ]
  },
  {
   "cell_type": "code",
   "execution_count": 143,
   "metadata": {},
   "outputs": [
    {
     "name": "stdout",
     "output_type": "stream",
     "text": [
      "['rthkunfaakmwmush', 'qxlnvjguikqcyfzt', 'sleaoasjspnjctqt', 'lactpmehuhmzwfjl', 'bvggvrdgjcspkkyj']\n"
     ]
    }
   ],
   "source": [
    "#read naughtynice strings file into variable\n",
    "f = open('naughtynicestrings.txt', 'r')\n",
    "str_naughtynice = []\n",
    "str_naughtynice = f.readlines()\n",
    "str_naughtynice = [line.rstrip(\"\\n\") for line in str_naughtynice]\n",
    "f.close()\n",
    "print(str_naughtynice[0:5])"
   ]
  },
  {
   "cell_type": "code",
   "execution_count": 125,
   "metadata": {},
   "outputs": [
    {
     "name": "stdout",
     "output_type": "stream",
     "text": [
      "1000\n"
     ]
    }
   ],
   "source": [
    "print(len(str_naughtynice))"
   ]
  },
  {
   "cell_type": "code",
   "execution_count": 136,
   "metadata": {},
   "outputs": [
    {
     "name": "stdout",
     "output_type": "stream",
     "text": [
      "Acceptable strings are 258\n"
     ]
    }
   ],
   "source": [
    "def naughtyniceassessor(str_naughtynicelist):\n",
    "    \n",
    "    str_acceptedlist = []\n",
    "    \n",
    "    for item in str_naughtynicelist:\n",
    "        \n",
    "        #add only strings items without notpermitted strings\n",
    "        if not any(notpermitted in item for notpermitted in ['ab','cd','pq','xy']): \n",
    "            \n",
    "            #add only strings that do contain 3 vowels\n",
    "            int_vowelcount = 0\n",
    "            for str_vowel in 'aeiou':\n",
    "                int_vowelcount = int_vowelcount + item.lower().count(str_vowel)\n",
    "            if int_vowelcount >= 3:\n",
    "                \n",
    "                #add only strings that do have double letters\n",
    "                if any(item[i] == item[i-1] for i in range(1,len(item))):\n",
    "                    str_acceptedlist.append(item)\n",
    "        \n",
    "    int_acceptablecount = len(str_acceptedlist)\n",
    "    return int_acceptablecount\n",
    "\n",
    "print(\"Acceptable strings are\",naughtyniceassessor(str_naughtynice))"
   ]
  },
  {
   "cell_type": "markdown",
   "metadata": {},
   "source": [
    "Realizing the error of his ways, Santa has switched to a better model of determining whether a string is naughty or nice. None of the old rules apply, as they are all clearly ridiculous.\n",
    "\n",
    "Now, a nice string is one with all of the following properties:\n",
    "\n",
    "- It contains a pair of any two letters that appears at least twice in the string without overlapping, like xyxy (xy) or aabcdefgaa (aa), but not like aaa (aa, but it overlaps).\n",
    "- It contains at least one letter which repeats with exactly one letter between them, like xyx, abcdefeghi (efe), or even aaa.\n",
    "\n",
    "How many strings are nice under these new rules?"
   ]
  },
  {
   "cell_type": "code",
   "execution_count": 151,
   "metadata": {},
   "outputs": [
    {
     "name": "stdout",
     "output_type": "stream",
     "text": [
      "Acceptable strings are 53\n"
     ]
    }
   ],
   "source": [
    "def naughtyniceassessor2(str_naughtynicelist):\n",
    "    \n",
    "    str_acceptedlist = []\n",
    "    \n",
    "    for item in str_naughtynicelist:\n",
    "        \n",
    "        #add only strings that have repeated letter with one letter between\n",
    "        if any(item[i] == item[i-2] for i in range(2,len(item))):\n",
    "        \n",
    "            #add only strings with repeated non-overlapping pairs\n",
    "            if any(item[i]+item[i+1] in item[i+2:] for i in range(0,len(item)-2) ):\n",
    "            \n",
    "                str_acceptedlist.append(item)\n",
    "\n",
    "    int_acceptablecount = len(str_acceptedlist)\n",
    "    return int_acceptablecount\n",
    "\n",
    "print(\"Acceptable strings are\",naughtyniceassessor2(str_naughtynice))"
   ]
  },
  {
   "cell_type": "code",
   "execution_count": null,
   "metadata": {},
   "outputs": [],
   "source": []
  }
 ],
 "metadata": {
  "kernelspec": {
   "display_name": "Python 3",
   "language": "python",
   "name": "python3"
  },
  "language_info": {
   "codemirror_mode": {
    "name": "ipython",
    "version": 3
   },
   "file_extension": ".py",
   "mimetype": "text/x-python",
   "name": "python",
   "nbconvert_exporter": "python",
   "pygments_lexer": "ipython3",
   "version": "3.7.7"
  }
 },
 "nbformat": 4,
 "nbformat_minor": 4
}
